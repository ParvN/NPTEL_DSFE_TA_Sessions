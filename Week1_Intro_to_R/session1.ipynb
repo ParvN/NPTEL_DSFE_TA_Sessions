{
 "cells": [
  {
   "cell_type": "markdown",
   "id": "6f46effe",
   "metadata": {},
   "source": [
    "## NPTEL DSFE - Week 1\n",
    "### Live Session 1 - Introduction to R"
   ]
  },
  {
   "cell_type": "code",
   "execution_count": 1,
   "id": "74fa53fe",
   "metadata": {
    "vscode": {
     "languageId": "r"
    }
   },
   "outputs": [
    {
     "name": "stdout",
     "output_type": "stream",
     "text": [
      "[1] 10 15 25\n",
      "[1]  10 100\n"
     ]
    }
   ],
   "source": [
    "a = 10\n",
    "b = a * 10\n",
    "\n",
    "num1 = 10\n",
    "num2 = 15\n",
    "sum = num1 + num2\n",
    "print(c(num1, num2, sum))\n",
    "\n",
    "print(c(a,b))"
   ]
  },
  {
   "cell_type": "markdown",
   "id": "913fc04d",
   "metadata": {},
   "source": [
    "### Setting and getting working directory "
   ]
  },
  {
   "cell_type": "code",
   "execution_count": 2,
   "id": "aa687efe",
   "metadata": {
    "vscode": {
     "languageId": "r"
    }
   },
   "outputs": [],
   "source": [
    "#print(getwd())"
   ]
  },
  {
   "cell_type": "code",
   "execution_count": 3,
   "id": "77ad4a79",
   "metadata": {
    "vscode": {
     "languageId": "r"
    }
   },
   "outputs": [],
   "source": [
    "#setwd(\"Path to the folder I want to set the working directory\")\n",
    "\n",
    "setwd(getwd())"
   ]
  },
  {
   "cell_type": "markdown",
   "id": "f2834562",
   "metadata": {},
   "source": [
    "### Saving and loading session data"
   ]
  },
  {
   "cell_type": "code",
   "execution_count": 4,
   "id": "370a35fe",
   "metadata": {
    "vscode": {
     "languageId": "r"
    }
   },
   "outputs": [
    {
     "data": {
      "text/html": [
       "<ol class=list-inline>\n",
       "\t<li>'a'</li>\n",
       "\t<li>'b'</li>\n",
       "\t<li>'num1'</li>\n",
       "\t<li>'num2'</li>\n",
       "\t<li>'sum'</li>\n",
       "</ol>\n"
      ],
      "text/latex": [
       "\\begin{enumerate*}\n",
       "\\item 'a'\n",
       "\\item 'b'\n",
       "\\item 'num1'\n",
       "\\item 'num2'\n",
       "\\item 'sum'\n",
       "\\end{enumerate*}\n"
      ],
      "text/markdown": [
       "1. 'a'\n",
       "2. 'b'\n",
       "3. 'num1'\n",
       "4. 'num2'\n",
       "5. 'sum'\n",
       "\n",
       "\n"
      ],
      "text/plain": [
       "[1] \"a\"    \"b\"    \"num1\" \"num2\" \"sum\" "
      ]
     },
     "metadata": {},
     "output_type": "display_data"
    },
    {
     "data": {
      "text/html": [
       "<ol class=list-inline>\n",
       "\t<li>'b'</li>\n",
       "\t<li>'num1'</li>\n",
       "\t<li>'num2'</li>\n",
       "\t<li>'sum'</li>\n",
       "</ol>\n"
      ],
      "text/latex": [
       "\\begin{enumerate*}\n",
       "\\item 'b'\n",
       "\\item 'num1'\n",
       "\\item 'num2'\n",
       "\\item 'sum'\n",
       "\\end{enumerate*}\n"
      ],
      "text/markdown": [
       "1. 'b'\n",
       "2. 'num1'\n",
       "3. 'num2'\n",
       "4. 'sum'\n",
       "\n",
       "\n"
      ],
      "text/plain": [
       "[1] \"b\"    \"num1\" \"num2\" \"sum\" "
      ]
     },
     "metadata": {},
     "output_type": "display_data"
    }
   ],
   "source": [
    "#This is the function call to save the workspace -> save.image()\n",
    "save.image(file= \"session.RData\")\n",
    "\n",
    "#Function to load workspace\n",
    "load(file = \"session.RData\")\n",
    "\n",
    "#Listing all vars\n",
    "ls() #This will list all variables previously saved\n",
    "rm(a) #remove a specific object\n",
    "ls()\n",
    "\n"
   ]
  },
  {
   "cell_type": "markdown",
   "id": "f94e5dba",
   "metadata": {},
   "source": [
    "### Variables and datatypes"
   ]
  },
  {
   "cell_type": "code",
   "execution_count": 5,
   "id": "eb1a1c28",
   "metadata": {
    "vscode": {
     "languageId": "r"
    }
   },
   "outputs": [
    {
     "name": "stdout",
     "output_type": "stream",
     "text": [
      "3 3 3.14 pi \n",
      "numeric integer numeric character \n",
      "double integer double character \n"
     ]
    }
   ],
   "source": [
    "x <- 3\n",
    "pi = 3.14\n",
    "\n",
    "x_int = 3L #for specifying integer explicitly\n",
    "x_float = 3.14\n",
    "x_string = \"pi\"\n",
    "\n",
    "cat(x, x_int, x_float, x_string, \"\\n\") \n",
    "\n",
    "cat(class(x), class(x_int), class(x_float), class(x_string), \"\\n\")\n",
    "\n",
    "cat(typeof(x), typeof(x_int), typeof(x_float), typeof(x_string), \"\\n\")"
   ]
  },
  {
   "cell_type": "code",
   "execution_count": 6,
   "id": "dfdecaef",
   "metadata": {
    "vscode": {
     "languageId": "r"
    }
   },
   "outputs": [
    {
     "name": "stdout",
     "output_type": "stream",
     "text": [
      "[1] TRUE\n",
      "[1] TRUE\n",
      "[1] FALSE\n"
     ]
    }
   ],
   "source": [
    "print(is.integer(x_int))\n",
    "print(is.character(x_string))\n",
    "print(is.logical(x_int))"
   ]
  },
  {
   "cell_type": "markdown",
   "id": "0ddd0030",
   "metadata": {},
   "source": [
    "### Vectors"
   ]
  },
  {
   "cell_type": "code",
   "execution_count": 7,
   "id": "fd415e4d",
   "metadata": {
    "vscode": {
     "languageId": "r"
    }
   },
   "outputs": [
    {
     "name": "stdout",
     "output_type": "stream",
     "text": [
      "2 3 4 5 \n",
      " 2 4 6 8 \n",
      " 4 7 10 13"
     ]
    },
    {
     "data": {
      "text/html": [
       "2"
      ],
      "text/latex": [
       "2"
      ],
      "text/markdown": [
       "2"
      ],
      "text/plain": [
       "[1] 2"
      ]
     },
     "metadata": {},
     "output_type": "display_data"
    },
    {
     "data": {
      "text/html": [
       "<ol class=list-inline>\n",
       "\t<li>3</li>\n",
       "\t<li>4</li>\n",
       "</ol>\n"
      ],
      "text/latex": [
       "\\begin{enumerate*}\n",
       "\\item 3\n",
       "\\item 4\n",
       "\\end{enumerate*}\n"
      ],
      "text/markdown": [
       "1. 3\n",
       "2. 4\n",
       "\n",
       "\n"
      ],
      "text/plain": [
       "[1] 3 4"
      ]
     },
     "metadata": {},
     "output_type": "display_data"
    },
    {
     "data": {
      "text/html": [
       "<ol class=list-inline>\n",
       "\t<li>1</li>\n",
       "\t<li>2</li>\n",
       "\t<li>4</li>\n",
       "</ol>\n"
      ],
      "text/latex": [
       "\\begin{enumerate*}\n",
       "\\item 1\n",
       "\\item 2\n",
       "\\item 4\n",
       "\\end{enumerate*}\n"
      ],
      "text/markdown": [
       "1. 1\n",
       "2. 2\n",
       "3. 4\n",
       "\n",
       "\n"
      ],
      "text/plain": [
       "[1] 1 2 4"
      ]
     },
     "metadata": {},
     "output_type": "display_data"
    },
    {
     "data": {
      "text/html": [
       "<ol class=list-inline>\n",
       "\t<li>1</li>\n",
       "\t<li>3</li>\n",
       "</ol>\n"
      ],
      "text/latex": [
       "\\begin{enumerate*}\n",
       "\\item 1\n",
       "\\item 3\n",
       "\\end{enumerate*}\n"
      ],
      "text/markdown": [
       "1. 1\n",
       "2. 3\n",
       "\n",
       "\n"
      ],
      "text/plain": [
       "[1] 1 3"
      ]
     },
     "metadata": {},
     "output_type": "display_data"
    },
    {
     "data": {
      "text/html": [
       "8"
      ],
      "text/latex": [
       "8"
      ],
      "text/markdown": [
       "8"
      ],
      "text/plain": [
       "[1] 8"
      ]
     },
     "metadata": {},
     "output_type": "display_data"
    },
    {
     "data": {
      "text/html": [
       "<strong>DaVinci:</strong> 'Tom Hanks'"
      ],
      "text/latex": [
       "\\textbf{DaVinci:} 'Tom Hanks'"
      ],
      "text/markdown": [
       "**DaVinci:** 'Tom Hanks'"
      ],
      "text/plain": [
       "    DaVinci \n",
       "\"Tom Hanks\" "
      ]
     },
     "metadata": {},
     "output_type": "display_data"
    }
   ],
   "source": [
    "num_vec = c(1, 2, 3, 4)\n",
    "names_vec = c(\"Tom Cruise\", \"JUlia ROberts\", \"Tom Hanks\")\n",
    "bool_vec = c(\"True\", \"False\")\n",
    "\n",
    "named_vec = c(\"MI\" = \"Tom Cruise\", \"Nottinghill\" = \"Julia Roberts\", \"DaVinci\"=\"Tom Hanks\")\n",
    "names(bool_vec) = c(\"T\", \"F\")\n",
    "\n",
    "num_vec1 = num_vec + 1 #element-wise operation\n",
    "num_vec2 = num_vec * 2\n",
    "\n",
    "cat(num_vec1, \"\\n\", num_vec2, \"\\n\", num_vec1+num_vec2)\n",
    "\n",
    "num_vec[2]\n",
    "num_vec[c(3,4)]\n",
    "\n",
    "num_vec[-3]\n",
    "num_vec[c(-2, -4)]\n",
    "\n",
    "num_vec2[num_vec2>6]\n",
    "\n",
    "named_vec[\"DaVinci\"]"
   ]
  },
  {
   "cell_type": "code",
   "execution_count": 8,
   "id": "66b57400",
   "metadata": {
    "vscode": {
     "languageId": "r"
    }
   },
   "outputs": [
    {
     "data": {
      "text/html": [
       "<ol class=list-inline>\n",
       "\t<li>TRUE</li>\n",
       "\t<li>TRUE</li>\n",
       "\t<li>TRUE</li>\n",
       "</ol>\n"
      ],
      "text/latex": [
       "\\begin{enumerate*}\n",
       "\\item TRUE\n",
       "\\item TRUE\n",
       "\\item TRUE\n",
       "\\end{enumerate*}\n"
      ],
      "text/markdown": [
       "1. TRUE\n",
       "2. TRUE\n",
       "3. TRUE\n",
       "\n",
       "\n"
      ],
      "text/plain": [
       "[1] TRUE TRUE TRUE"
      ]
     },
     "metadata": {},
     "output_type": "display_data"
    },
    {
     "data": {
      "text/html": [
       "<ol class=list-inline>\n",
       "\t<li>FALSE</li>\n",
       "\t<li>TRUE</li>\n",
       "\t<li>FALSE</li>\n",
       "</ol>\n"
      ],
      "text/latex": [
       "\\begin{enumerate*}\n",
       "\\item FALSE\n",
       "\\item TRUE\n",
       "\\item FALSE\n",
       "\\end{enumerate*}\n"
      ],
      "text/markdown": [
       "1. FALSE\n",
       "2. TRUE\n",
       "3. FALSE\n",
       "\n",
       "\n"
      ],
      "text/plain": [
       "[1] FALSE  TRUE FALSE"
      ]
     },
     "metadata": {},
     "output_type": "display_data"
    },
    {
     "data": {
      "text/html": [
       "<ol class=list-inline>\n",
       "\t<li>FALSE</li>\n",
       "\t<li>TRUE</li>\n",
       "\t<li>TRUE</li>\n",
       "</ol>\n"
      ],
      "text/latex": [
       "\\begin{enumerate*}\n",
       "\\item FALSE\n",
       "\\item TRUE\n",
       "\\item TRUE\n",
       "\\end{enumerate*}\n"
      ],
      "text/markdown": [
       "1. FALSE\n",
       "2. TRUE\n",
       "3. TRUE\n",
       "\n",
       "\n"
      ],
      "text/plain": [
       "[1] FALSE  TRUE  TRUE"
      ]
     },
     "metadata": {},
     "output_type": "display_data"
    },
    {
     "data": {
      "text/html": [
       "<ol class=list-inline>\n",
       "\t<li>FALSE</li>\n",
       "\t<li>TRUE</li>\n",
       "\t<li>FALSE</li>\n",
       "</ol>\n"
      ],
      "text/latex": [
       "\\begin{enumerate*}\n",
       "\\item FALSE\n",
       "\\item TRUE\n",
       "\\item FALSE\n",
       "\\end{enumerate*}\n"
      ],
      "text/markdown": [
       "1. FALSE\n",
       "2. TRUE\n",
       "3. FALSE\n",
       "\n",
       "\n"
      ],
      "text/plain": [
       "[1] FALSE  TRUE FALSE"
      ]
     },
     "metadata": {},
     "output_type": "display_data"
    }
   ],
   "source": [
    "x = c(120, 240, 500)\n",
    "\n",
    "x>50\n",
    "x==240\n",
    "x!=120\n",
    "\n",
    "x>120 & x<500"
   ]
  },
  {
   "cell_type": "code",
   "execution_count": 9,
   "id": "263d6740",
   "metadata": {
    "vscode": {
     "languageId": "r"
    }
   },
   "outputs": [
    {
     "data": {
      "text/html": [
       "<ol class=list-inline>\n",
       "\t<li>2</li>\n",
       "\t<li>3</li>\n",
       "</ol>\n"
      ],
      "text/latex": [
       "\\begin{enumerate*}\n",
       "\\item 2\n",
       "\\item 3\n",
       "\\end{enumerate*}\n"
      ],
      "text/markdown": [
       "1. 2\n",
       "2. 3\n",
       "\n",
       "\n"
      ],
      "text/plain": [
       "[1] 2 3"
      ]
     },
     "metadata": {},
     "output_type": "display_data"
    },
    {
     "data": {
      "text/html": [
       "3"
      ],
      "text/latex": [
       "3"
      ],
      "text/markdown": [
       "3"
      ],
      "text/plain": [
       "[1] 3"
      ]
     },
     "metadata": {},
     "output_type": "display_data"
    },
    {
     "data": {
      "text/html": [
       "1"
      ],
      "text/latex": [
       "1"
      ],
      "text/markdown": [
       "1"
      ],
      "text/plain": [
       "[1] 1"
      ]
     },
     "metadata": {},
     "output_type": "display_data"
    }
   ],
   "source": [
    "which(x>120)\n",
    "which.max(x)\n",
    "which.min(x)"
   ]
  },
  {
   "cell_type": "markdown",
   "id": "3d04842e",
   "metadata": {},
   "source": [
    "### Lists in R"
   ]
  },
  {
   "cell_type": "code",
   "execution_count": 10,
   "id": "2f58ba69",
   "metadata": {
    "vscode": {
     "languageId": "r"
    }
   },
   "outputs": [
    {
     "name": "stdout",
     "output_type": "stream",
     "text": [
      "$roll_num\n",
      "[1] 1 2 3 4\n",
      "\n",
      "$name\n",
      "[1] \"Tom\"    \"Edward\" \"Paul\"  \n",
      "\n",
      "[1] 1 2 3 4\n",
      "Edward \n"
     ]
    }
   ],
   "source": [
    "student_RollNum = c(1, 2, 3, 4)\n",
    "student_Name = c(\"Tom\", \"Edward\", \"Paul\")\n",
    "student_list = list(\"roll_num\" = student_RollNum, \"name\" = student_Name)\n",
    "print(student_list)\n",
    "print(student_list[[1]])\n",
    "cat(student_list[[2]][2], \"\\n\")"
   ]
  },
  {
   "cell_type": "code",
   "execution_count": 11,
   "id": "01364a96",
   "metadata": {
    "vscode": {
     "languageId": "r"
    }
   },
   "outputs": [
    {
     "name": "stdout",
     "output_type": "stream",
     "text": [
      "[1] \"Add a new list\"\n",
      "$roll_num\n",
      "[1] 1 2 3 4\n",
      "\n",
      "$name\n",
      "[1] \"Tom\"    \"Edward\" \"Paul\"  \n",
      "\n",
      "$Total_num_students\n",
      "[1] 4\n",
      "\n"
     ]
    }
   ],
   "source": [
    "#Add new list\n",
    "print(\"Add a new list\")\n",
    "student_list[\"Total_num_students\"] = 4\n",
    "print(student_list)\n"
   ]
  },
  {
   "cell_type": "code",
   "execution_count": 12,
   "id": "58f9af7d",
   "metadata": {
    "vscode": {
     "languageId": "r"
    }
   },
   "outputs": [
    {
     "name": "stdout",
     "output_type": "stream",
     "text": [
      "[1] \"Tom\"    \"Edward\" \"Paul\"  \n",
      "[1] 3\n",
      "[1] \"roll_num\"           \"name\"               \"Total_num_students\"\n",
      "         roll_num1          roll_num2          roll_num3          roll_num4 \n",
      "               \"1\"                \"2\"                \"3\"                \"4\" \n",
      "             name1              name2              name3 Total_num_students \n",
      "             \"Tom\"           \"Edward\"             \"Paul\"                \"4\" \n",
      "[1] 8\n",
      "$roll_num\n",
      "[1] 1 2 3 4\n",
      "\n",
      "$name\n",
      "[1] \"Tom\"    \"Edward\" \"Paul\"  \n",
      "\n",
      "$Total_num_students\n",
      "[1] 4\n",
      "\n",
      "$Rank\n",
      "[1] 1 2 3 4\n",
      "\n"
     ]
    }
   ],
   "source": [
    "print(student_list[['name']])\n",
    "print(length(student_list)) #get the length\n",
    "print(names(student_list))\n",
    "print(unlist(student_list)) #flatten\n",
    "print(length(unlist(student_list)))\n",
    "\n",
    "student_list[\"Rank\"] = list(c(1, 2, 3, 4))\n",
    "print(student_list)"
   ]
  },
  {
   "cell_type": "markdown",
   "id": "4727b0d1",
   "metadata": {},
   "source": [
    "### Dataframes"
   ]
  },
  {
   "cell_type": "code",
   "execution_count": 13,
   "id": "d2f5b79f",
   "metadata": {
    "vscode": {
     "languageId": "r"
    }
   },
   "outputs": [
    {
     "data": {
      "text/html": [
       "<table>\n",
       "<thead><tr><th scope=col>Name</th><th scope=col>RollNum</th></tr></thead>\n",
       "<tbody>\n",
       "\t<tr><td>Tom   </td><td>1     </td></tr>\n",
       "\t<tr><td>Edward</td><td>2     </td></tr>\n",
       "\t<tr><td>Paul  </td><td>3     </td></tr>\n",
       "</tbody>\n",
       "</table>\n"
      ],
      "text/latex": [
       "\\begin{tabular}{r|ll}\n",
       " Name & RollNum\\\\\n",
       "\\hline\n",
       "\t Tom    & 1     \\\\\n",
       "\t Edward & 2     \\\\\n",
       "\t Paul   & 3     \\\\\n",
       "\\end{tabular}\n"
      ],
      "text/markdown": [
       "\n",
       "| Name | RollNum |\n",
       "|---|---|\n",
       "| Tom    | 1      |\n",
       "| Edward | 2      |\n",
       "| Paul   | 3      |\n",
       "\n"
      ],
      "text/plain": [
       "  Name   RollNum\n",
       "1 Tom    1      \n",
       "2 Edward 2      \n",
       "3 Paul   3      "
      ]
     },
     "metadata": {},
     "output_type": "display_data"
    }
   ],
   "source": [
    "student_df = data.frame(\n",
    "    \"Name\" = c(\"Tom\", \"Edward\", \"Paul\"),\n",
    "    \"RollNum\" = c(1, 2, 3))\n",
    "student_df"
   ]
  },
  {
   "cell_type": "code",
   "execution_count": 14,
   "id": "2ec830ab",
   "metadata": {
    "vscode": {
     "languageId": "r"
    }
   },
   "outputs": [
    {
     "data": {
      "text/html": [
       "<table>\n",
       "<thead><tr><th scope=col>Name</th><th scope=col>RollNum</th></tr></thead>\n",
       "<tbody>\n",
       "\t<tr><td>Tom   </td><td>1     </td></tr>\n",
       "\t<tr><td>Edward</td><td>2     </td></tr>\n",
       "\t<tr><td>Paul  </td><td>3     </td></tr>\n",
       "</tbody>\n",
       "</table>\n"
      ],
      "text/latex": [
       "\\begin{tabular}{r|ll}\n",
       " Name & RollNum\\\\\n",
       "\\hline\n",
       "\t Tom    & 1     \\\\\n",
       "\t Edward & 2     \\\\\n",
       "\t Paul   & 3     \\\\\n",
       "\\end{tabular}\n"
      ],
      "text/markdown": [
       "\n",
       "| Name | RollNum |\n",
       "|---|---|\n",
       "| Tom    | 1      |\n",
       "| Edward | 2      |\n",
       "| Paul   | 3      |\n",
       "\n"
      ],
      "text/plain": [
       "  Name   RollNum\n",
       "1 Tom    1      \n",
       "2 Edward 2      \n",
       "3 Paul   3      "
      ]
     },
     "metadata": {},
     "output_type": "display_data"
    },
    {
     "data": {
      "text/html": [
       "<table>\n",
       "<thead><tr><th scope=col>Name</th><th scope=col>RollNum</th></tr></thead>\n",
       "<tbody>\n",
       "\t<tr><td>Tom   </td><td>1     </td></tr>\n",
       "\t<tr><td>Edward</td><td>2     </td></tr>\n",
       "\t<tr><td>Paul  </td><td>3     </td></tr>\n",
       "</tbody>\n",
       "</table>\n"
      ],
      "text/latex": [
       "\\begin{tabular}{r|ll}\n",
       " Name & RollNum\\\\\n",
       "\\hline\n",
       "\t Tom    & 1     \\\\\n",
       "\t Edward & 2     \\\\\n",
       "\t Paul   & 3     \\\\\n",
       "\\end{tabular}\n"
      ],
      "text/markdown": [
       "\n",
       "| Name | RollNum |\n",
       "|---|---|\n",
       "| Tom    | 1      |\n",
       "| Edward | 2      |\n",
       "| Paul   | 3      |\n",
       "\n"
      ],
      "text/plain": [
       "  Name   RollNum\n",
       "1 Tom    1      \n",
       "2 Edward 2      \n",
       "3 Paul   3      "
      ]
     },
     "metadata": {},
     "output_type": "display_data"
    },
    {
     "data": {
      "text/html": [
       "3"
      ],
      "text/latex": [
       "3"
      ],
      "text/markdown": [
       "3"
      ],
      "text/plain": [
       "[1] 3"
      ]
     },
     "metadata": {},
     "output_type": "display_data"
    },
    {
     "data": {
      "text/html": [
       "2"
      ],
      "text/latex": [
       "2"
      ],
      "text/markdown": [
       "2"
      ],
      "text/plain": [
       "[1] 2"
      ]
     },
     "metadata": {},
     "output_type": "display_data"
    },
    {
     "data": {
      "text/html": [
       "<ol class=list-inline>\n",
       "\t<li>3</li>\n",
       "\t<li>2</li>\n",
       "</ol>\n"
      ],
      "text/latex": [
       "\\begin{enumerate*}\n",
       "\\item 3\n",
       "\\item 2\n",
       "\\end{enumerate*}\n"
      ],
      "text/markdown": [
       "1. 3\n",
       "2. 2\n",
       "\n",
       "\n"
      ],
      "text/plain": [
       "[1] 3 2"
      ]
     },
     "metadata": {},
     "output_type": "display_data"
    },
    {
     "data": {
      "text/plain": [
       "     Name      RollNum   \n",
       " Edward:1   Min.   :1.0  \n",
       " Paul  :1   1st Qu.:1.5  \n",
       " Tom   :1   Median :2.0  \n",
       "            Mean   :2.0  \n",
       "            3rd Qu.:2.5  \n",
       "            Max.   :3.0  "
      ]
     },
     "metadata": {},
     "output_type": "display_data"
    }
   ],
   "source": [
    "head(student_df)\n",
    "tail(student_df)\n",
    "nrow(student_df)\n",
    "ncol(student_df)\n",
    "dim(student_df)\n",
    "summary(student_df)"
   ]
  },
  {
   "cell_type": "code",
   "execution_count": 15,
   "id": "b261d584",
   "metadata": {
    "vscode": {
     "languageId": "r"
    }
   },
   "outputs": [
    {
     "data": {
      "text/html": [
       "<ol class=list-inline>\n",
       "\t<li>1</li>\n",
       "\t<li>2</li>\n",
       "\t<li>3</li>\n",
       "</ol>\n"
      ],
      "text/latex": [
       "\\begin{enumerate*}\n",
       "\\item 1\n",
       "\\item 2\n",
       "\\item 3\n",
       "\\end{enumerate*}\n"
      ],
      "text/markdown": [
       "1. 1\n",
       "2. 2\n",
       "3. 3\n",
       "\n",
       "\n"
      ],
      "text/plain": [
       "[1] 1 2 3"
      ]
     },
     "metadata": {},
     "output_type": "display_data"
    },
    {
     "data": {
      "text/html": [
       "1"
      ],
      "text/latex": [
       "1"
      ],
      "text/markdown": [
       "1"
      ],
      "text/plain": [
       "[1] 1"
      ]
     },
     "metadata": {},
     "output_type": "display_data"
    },
    {
     "data": {
      "text/html": [
       "<table>\n",
       "<thead><tr><th scope=col>Name</th><th scope=col>RollNum</th></tr></thead>\n",
       "<tbody>\n",
       "\t<tr><td>Tom   </td><td>1     </td></tr>\n",
       "\t<tr><td>Edward</td><td>2     </td></tr>\n",
       "\t<tr><td>Paul  </td><td>3     </td></tr>\n",
       "</tbody>\n",
       "</table>\n"
      ],
      "text/latex": [
       "\\begin{tabular}{r|ll}\n",
       " Name & RollNum\\\\\n",
       "\\hline\n",
       "\t Tom    & 1     \\\\\n",
       "\t Edward & 2     \\\\\n",
       "\t Paul   & 3     \\\\\n",
       "\\end{tabular}\n"
      ],
      "text/markdown": [
       "\n",
       "| Name | RollNum |\n",
       "|---|---|\n",
       "| Tom    | 1      |\n",
       "| Edward | 2      |\n",
       "| Paul   | 3      |\n",
       "\n"
      ],
      "text/plain": [
       "  Name   RollNum\n",
       "1 Tom    1      \n",
       "2 Edward 2      \n",
       "3 Paul   3      "
      ]
     },
     "metadata": {},
     "output_type": "display_data"
    }
   ],
   "source": [
    "student_df[, \"RollNum\"]\n",
    "student_df[1, 2]\n",
    "student_df[,1:2]"
   ]
  },
  {
   "cell_type": "code",
   "execution_count": 16,
   "id": "e371b4d1",
   "metadata": {
    "vscode": {
     "languageId": "r"
    }
   },
   "outputs": [
    {
     "data": {
      "text/html": [
       "<table>\n",
       "<thead><tr><th scope=col>Name</th><th scope=col>RollNum</th><th scope=col>Rank</th><th scope=col>Home</th></tr></thead>\n",
       "<tbody>\n",
       "\t<tr><td>Tom      </td><td>1        </td><td>2        </td><td>US       </td></tr>\n",
       "\t<tr><td>Edward   </td><td>2        </td><td>1        </td><td>Canada   </td></tr>\n",
       "\t<tr><td>Paul     </td><td>3        </td><td>3        </td><td>Australia</td></tr>\n",
       "</tbody>\n",
       "</table>\n"
      ],
      "text/latex": [
       "\\begin{tabular}{r|llll}\n",
       " Name & RollNum & Rank & Home\\\\\n",
       "\\hline\n",
       "\t Tom       & 1         & 2         & US       \\\\\n",
       "\t Edward    & 2         & 1         & Canada   \\\\\n",
       "\t Paul      & 3         & 3         & Australia\\\\\n",
       "\\end{tabular}\n"
      ],
      "text/markdown": [
       "\n",
       "| Name | RollNum | Rank | Home |\n",
       "|---|---|---|---|\n",
       "| Tom       | 1         | 2         | US        |\n",
       "| Edward    | 2         | 1         | Canada    |\n",
       "| Paul      | 3         | 3         | Australia |\n",
       "\n"
      ],
      "text/plain": [
       "  Name   RollNum Rank Home     \n",
       "1 Tom    1       2    US       \n",
       "2 Edward 2       1    Canada   \n",
       "3 Paul   3       3    Australia"
      ]
     },
     "metadata": {},
     "output_type": "display_data"
    }
   ],
   "source": [
    "student_df[\"Rank\"] = c(2, 1, 3)\n",
    "student_df[\"Home\"] = c(\"US\", \"Canada\", \"Australia\")\n",
    "student_df"
   ]
  },
  {
   "cell_type": "code",
   "execution_count": 17,
   "id": "8bf5c483",
   "metadata": {
    "vscode": {
     "languageId": "r"
    }
   },
   "outputs": [
    {
     "data": {
      "text/html": [
       "<table>\n",
       "<thead><tr><th></th><th scope=col>Name</th><th scope=col>RollNum</th><th scope=col>Rank</th><th scope=col>Home</th></tr></thead>\n",
       "<tbody>\n",
       "\t<tr><th scope=row>1</th><td>Tom      </td><td>1        </td><td>2        </td><td>US       </td></tr>\n",
       "\t<tr><th scope=row>3</th><td>Paul     </td><td>3        </td><td>3        </td><td>Australia</td></tr>\n",
       "</tbody>\n",
       "</table>\n"
      ],
      "text/latex": [
       "\\begin{tabular}{r|llll}\n",
       "  & Name & RollNum & Rank & Home\\\\\n",
       "\\hline\n",
       "\t1 & Tom       & 1         & 2         & US       \\\\\n",
       "\t3 & Paul      & 3         & 3         & Australia\\\\\n",
       "\\end{tabular}\n"
      ],
      "text/markdown": [
       "\n",
       "| <!--/--> | Name | RollNum | Rank | Home |\n",
       "|---|---|---|---|---|\n",
       "| 1 | Tom       | 1         | 2         | US        |\n",
       "| 3 | Paul      | 3         | 3         | Australia |\n",
       "\n"
      ],
      "text/plain": [
       "  Name RollNum Rank Home     \n",
       "1 Tom  1       2    US       \n",
       "3 Paul 3       3    Australia"
      ]
     },
     "metadata": {},
     "output_type": "display_data"
    }
   ],
   "source": [
    "df2 = subset(student_df, Name == \"Paul\" | Home == \"US\")\n",
    "df2"
   ]
  },
  {
   "cell_type": "code",
   "execution_count": 18,
   "id": "9a47b99c",
   "metadata": {
    "vscode": {
     "languageId": "r"
    }
   },
   "outputs": [
    {
     "data": {
      "text/html": [
       "<table>\n",
       "<thead><tr><th scope=col>Name</th><th scope=col>RollNum</th><th scope=col>Rank</th></tr></thead>\n",
       "<tbody>\n",
       "\t<tr><td>Tom   </td><td>1     </td><td>2     </td></tr>\n",
       "\t<tr><td>Edward</td><td>2     </td><td>1     </td></tr>\n",
       "\t<tr><td>Paul  </td><td>3     </td><td>3     </td></tr>\n",
       "</tbody>\n",
       "</table>\n"
      ],
      "text/latex": [
       "\\begin{tabular}{r|lll}\n",
       " Name & RollNum & Rank\\\\\n",
       "\\hline\n",
       "\t Tom    & 1      & 2     \\\\\n",
       "\t Edward & 2      & 1     \\\\\n",
       "\t Paul   & 3      & 3     \\\\\n",
       "\\end{tabular}\n"
      ],
      "text/markdown": [
       "\n",
       "| Name | RollNum | Rank |\n",
       "|---|---|---|\n",
       "| Tom    | 1      | 2      |\n",
       "| Edward | 2      | 1      |\n",
       "| Paul   | 3      | 3      |\n",
       "\n"
      ],
      "text/plain": [
       "  Name   RollNum Rank\n",
       "1 Tom    1       2   \n",
       "2 Edward 2       1   \n",
       "3 Paul   3       3   "
      ]
     },
     "metadata": {},
     "output_type": "display_data"
    }
   ],
   "source": [
    "student_df[\"Home\"] = NULL\n",
    "student_df"
   ]
  },
  {
   "cell_type": "code",
   "execution_count": 19,
   "id": "11fcb027",
   "metadata": {
    "vscode": {
     "languageId": "r"
    }
   },
   "outputs": [
    {
     "data": {
      "text/html": [
       "<table>\n",
       "<thead><tr><th scope=col>Name</th><th scope=col>RollNum</th><th scope=col>Rank</th></tr></thead>\n",
       "<tbody>\n",
       "\t<tr><td>Tom   </td><td>4     </td><td>2     </td></tr>\n",
       "\t<tr><td>Edward</td><td>2     </td><td>1     </td></tr>\n",
       "\t<tr><td>Paul  </td><td>3     </td><td>3     </td></tr>\n",
       "</tbody>\n",
       "</table>\n"
      ],
      "text/latex": [
       "\\begin{tabular}{r|lll}\n",
       " Name & RollNum & Rank\\\\\n",
       "\\hline\n",
       "\t Tom    & 4      & 2     \\\\\n",
       "\t Edward & 2      & 1     \\\\\n",
       "\t Paul   & 3      & 3     \\\\\n",
       "\\end{tabular}\n"
      ],
      "text/markdown": [
       "\n",
       "| Name | RollNum | Rank |\n",
       "|---|---|---|\n",
       "| Tom    | 4      | 2      |\n",
       "| Edward | 2      | 1      |\n",
       "| Paul   | 3      | 3      |\n",
       "\n"
      ],
      "text/plain": [
       "  Name   RollNum Rank\n",
       "1 Tom    4       2   \n",
       "2 Edward 2       1   \n",
       "3 Paul   3       3   "
      ]
     },
     "metadata": {},
     "output_type": "display_data"
    }
   ],
   "source": [
    "student_df[[2]][1] = 4\n",
    "student_df"
   ]
  },
  {
   "cell_type": "markdown",
   "id": "b6557d82",
   "metadata": {},
   "source": [
    "### Adding extra rows and columns"
   ]
  },
  {
   "cell_type": "code",
   "execution_count": 20,
   "id": "69f730e8",
   "metadata": {
    "vscode": {
     "languageId": "r"
    }
   },
   "outputs": [
    {
     "data": {
      "text/html": [
       "<table>\n",
       "<thead><tr><th scope=col>Name</th><th scope=col>RollNum</th><th scope=col>Rank</th></tr></thead>\n",
       "<tbody>\n",
       "\t<tr><td>Tom   </td><td>4     </td><td>2     </td></tr>\n",
       "\t<tr><td>Edward</td><td>2     </td><td>1     </td></tr>\n",
       "\t<tr><td>Paul  </td><td>3     </td><td>3     </td></tr>\n",
       "\t<tr><td>Alice </td><td>1     </td><td>4     </td></tr>\n",
       "</tbody>\n",
       "</table>\n"
      ],
      "text/latex": [
       "\\begin{tabular}{r|lll}\n",
       " Name & RollNum & Rank\\\\\n",
       "\\hline\n",
       "\t Tom    & 4      & 2     \\\\\n",
       "\t Edward & 2      & 1     \\\\\n",
       "\t Paul   & 3      & 3     \\\\\n",
       "\t Alice  & 1      & 4     \\\\\n",
       "\\end{tabular}\n"
      ],
      "text/markdown": [
       "\n",
       "| Name | RollNum | Rank |\n",
       "|---|---|---|\n",
       "| Tom    | 4      | 2      |\n",
       "| Edward | 2      | 1      |\n",
       "| Paul   | 3      | 3      |\n",
       "| Alice  | 1      | 4      |\n",
       "\n"
      ],
      "text/plain": [
       "  Name   RollNum Rank\n",
       "1 Tom    4       2   \n",
       "2 Edward 2       1   \n",
       "3 Paul   3       3   \n",
       "4 Alice  1       4   "
      ]
     },
     "metadata": {},
     "output_type": "display_data"
    }
   ],
   "source": [
    "student_df = rbind(student_df, data.frame(Name = \"Alice\", RollNum = 1, Rank = 4))\n",
    "student_df"
   ]
  },
  {
   "cell_type": "code",
   "execution_count": 21,
   "id": "b5e6dfff",
   "metadata": {
    "vscode": {
     "languageId": "r"
    }
   },
   "outputs": [
    {
     "data": {
      "text/html": [
       "<table>\n",
       "<thead><tr><th scope=col>Name</th><th scope=col>RollNum</th><th scope=col>Rank</th><th scope=col>Home</th></tr></thead>\n",
       "<tbody>\n",
       "\t<tr><td>Tom        </td><td>4          </td><td>2          </td><td>US         </td></tr>\n",
       "\t<tr><td>Edward     </td><td>2          </td><td>1          </td><td>Canada     </td></tr>\n",
       "\t<tr><td>Paul       </td><td>3          </td><td>3          </td><td>Australia  </td></tr>\n",
       "\t<tr><td>Alice      </td><td>1          </td><td>4          </td><td>Netherlands</td></tr>\n",
       "</tbody>\n",
       "</table>\n"
      ],
      "text/latex": [
       "\\begin{tabular}{r|llll}\n",
       " Name & RollNum & Rank & Home\\\\\n",
       "\\hline\n",
       "\t Tom         & 4           & 2           & US         \\\\\n",
       "\t Edward      & 2           & 1           & Canada     \\\\\n",
       "\t Paul        & 3           & 3           & Australia  \\\\\n",
       "\t Alice       & 1           & 4           & Netherlands\\\\\n",
       "\\end{tabular}\n"
      ],
      "text/markdown": [
       "\n",
       "| Name | RollNum | Rank | Home |\n",
       "|---|---|---|---|\n",
       "| Tom         | 4           | 2           | US          |\n",
       "| Edward      | 2           | 1           | Canada      |\n",
       "| Paul        | 3           | 3           | Australia   |\n",
       "| Alice       | 1           | 4           | Netherlands |\n",
       "\n"
      ],
      "text/plain": [
       "  Name   RollNum Rank Home       \n",
       "1 Tom    4       2    US         \n",
       "2 Edward 2       1    Canada     \n",
       "3 Paul   3       3    Australia  \n",
       "4 Alice  1       4    Netherlands"
      ]
     },
     "metadata": {},
     "output_type": "display_data"
    }
   ],
   "source": [
    "student_df = cbind(student_df, Home = c(\"US\", \"Canada\", \"Australia\", \"Netherlands\"))\n",
    "student_df"
   ]
  },
  {
   "cell_type": "markdown",
   "id": "7019616e",
   "metadata": {},
   "source": [
    "### Deleting rows and columns"
   ]
  },
  {
   "cell_type": "code",
   "execution_count": 22,
   "id": "762ed608",
   "metadata": {
    "vscode": {
     "languageId": "r"
    }
   },
   "outputs": [
    {
     "data": {
      "text/html": [
       "<table>\n",
       "<thead><tr><th></th><th scope=col>Name</th><th scope=col>RollNum</th><th scope=col>Home</th></tr></thead>\n",
       "<tbody>\n",
       "\t<tr><th scope=row>1</th><td>Tom        </td><td>4          </td><td>US         </td></tr>\n",
       "\t<tr><th scope=row>2</th><td>Edward     </td><td>2          </td><td>Canada     </td></tr>\n",
       "\t<tr><th scope=row>4</th><td>Alice      </td><td>1          </td><td>Netherlands</td></tr>\n",
       "</tbody>\n",
       "</table>\n"
      ],
      "text/latex": [
       "\\begin{tabular}{r|lll}\n",
       "  & Name & RollNum & Home\\\\\n",
       "\\hline\n",
       "\t1 & Tom         & 4           & US         \\\\\n",
       "\t2 & Edward      & 2           & Canada     \\\\\n",
       "\t4 & Alice       & 1           & Netherlands\\\\\n",
       "\\end{tabular}\n"
      ],
      "text/markdown": [
       "\n",
       "| <!--/--> | Name | RollNum | Home |\n",
       "|---|---|---|---|\n",
       "| 1 | Tom         | 4           | US          |\n",
       "| 2 | Edward      | 2           | Canada      |\n",
       "| 4 | Alice       | 1           | Netherlands |\n",
       "\n"
      ],
      "text/plain": [
       "  Name   RollNum Home       \n",
       "1 Tom    4       US         \n",
       "2 Edward 2       Canada     \n",
       "4 Alice  1       Netherlands"
      ]
     },
     "metadata": {},
     "output_type": "display_data"
    },
    {
     "data": {
      "text/html": [
       "<table>\n",
       "<thead><tr><th></th><th scope=col>Name</th><th scope=col>RollNum</th><th scope=col>Rank</th><th scope=col>Home</th></tr></thead>\n",
       "<tbody>\n",
       "\t<tr><th scope=row>3</th><td>Paul     </td><td>3        </td><td>3        </td><td>Australia</td></tr>\n",
       "</tbody>\n",
       "</table>\n"
      ],
      "text/latex": [
       "\\begin{tabular}{r|llll}\n",
       "  & Name & RollNum & Rank & Home\\\\\n",
       "\\hline\n",
       "\t3 & Paul      & 3         & 3         & Australia\\\\\n",
       "\\end{tabular}\n"
      ],
      "text/markdown": [
       "\n",
       "| <!--/--> | Name | RollNum | Rank | Home |\n",
       "|---|---|---|---|---|\n",
       "| 3 | Paul      | 3         | 3         | Australia |\n",
       "\n"
      ],
      "text/plain": [
       "  Name RollNum Rank Home     \n",
       "3 Paul 3       3    Australia"
      ]
     },
     "metadata": {},
     "output_type": "display_data"
    }
   ],
   "source": [
    "student_df2 = student_df[-3, -3]\n",
    "student_df2\n",
    "\n",
    "student_df3 = student_df[student_df[\"Name\"] == \"Paul\",]\n",
    "student_df3"
   ]
  },
  {
   "cell_type": "code",
   "execution_count": 23,
   "id": "03f80932",
   "metadata": {
    "vscode": {
     "languageId": "r"
    }
   },
   "outputs": [
    {
     "data": {
      "text/html": [
       "<table>\n",
       "<thead><tr><th></th><th scope=col>Name</th><th scope=col>RollNum</th><th scope=col>Rank</th><th scope=col>Home</th></tr></thead>\n",
       "<tbody>\n",
       "\t<tr><th scope=row>3</th><td>Paul     </td><td>3        </td><td>3        </td><td>Australia</td></tr>\n",
       "\t<tr><th scope=row>1</th><td>Sam      </td><td>3        </td><td>3        </td><td>Australia</td></tr>\n",
       "</tbody>\n",
       "</table>\n"
      ],
      "text/latex": [
       "\\begin{tabular}{r|llll}\n",
       "  & Name & RollNum & Rank & Home\\\\\n",
       "\\hline\n",
       "\t3 & Paul      & 3         & 3         & Australia\\\\\n",
       "\t1 & Sam       & 3         & 3         & Australia\\\\\n",
       "\\end{tabular}\n"
      ],
      "text/markdown": [
       "\n",
       "| <!--/--> | Name | RollNum | Rank | Home |\n",
       "|---|---|---|---|---|\n",
       "| 3 | Paul      | 3         | 3         | Australia |\n",
       "| 1 | Sam       | 3         | 3         | Australia |\n",
       "\n"
      ],
      "text/plain": [
       "  Name RollNum Rank Home     \n",
       "3 Paul 3       3    Australia\n",
       "1 Sam  3       3    Australia"
      ]
     },
     "metadata": {},
     "output_type": "display_data"
    }
   ],
   "source": [
    "student_df3 = rbind(student_df3, data.frame(Name = \"Sam\", RollNum = 3, Rank=3, Home=\"Australia\" ))\n",
    "student_df3"
   ]
  },
  {
   "cell_type": "markdown",
   "id": "66a3cd9a",
   "metadata": {},
   "source": [
    "### Recast\n",
    "\n",
    "Melt -> When each measurement type needs different treatment"
   ]
  },
  {
   "cell_type": "code",
   "execution_count": 24,
   "id": "7fd6bd37",
   "metadata": {
    "vscode": {
     "languageId": "r"
    }
   },
   "outputs": [
    {
     "data": {
      "text/html": [
       "<table>\n",
       "<thead><tr><th scope=col>Name</th><th scope=col>RollNum</th><th scope=col>Rank</th><th scope=col>Home</th><th scope=col>Math</th><th scope=col>Science</th></tr></thead>\n",
       "<tbody>\n",
       "\t<tr><td>Tom        </td><td>4          </td><td>2          </td><td>US         </td><td>85         </td><td>78         </td></tr>\n",
       "\t<tr><td>Edward     </td><td>2          </td><td>1          </td><td>Canada     </td><td>95         </td><td>92         </td></tr>\n",
       "\t<tr><td>Paul       </td><td>3          </td><td>3          </td><td>Australia  </td><td>72         </td><td>85         </td></tr>\n",
       "\t<tr><td>Alice      </td><td>1          </td><td>4          </td><td>Netherlands</td><td>88         </td><td>90         </td></tr>\n",
       "</tbody>\n",
       "</table>\n"
      ],
      "text/latex": [
       "\\begin{tabular}{r|llllll}\n",
       " Name & RollNum & Rank & Home & Math & Science\\\\\n",
       "\\hline\n",
       "\t Tom         & 4           & 2           & US          & 85          & 78         \\\\\n",
       "\t Edward      & 2           & 1           & Canada      & 95          & 92         \\\\\n",
       "\t Paul        & 3           & 3           & Australia   & 72          & 85         \\\\\n",
       "\t Alice       & 1           & 4           & Netherlands & 88          & 90         \\\\\n",
       "\\end{tabular}\n"
      ],
      "text/markdown": [
       "\n",
       "| Name | RollNum | Rank | Home | Math | Science |\n",
       "|---|---|---|---|---|---|\n",
       "| Tom         | 4           | 2           | US          | 85          | 78          |\n",
       "| Edward      | 2           | 1           | Canada      | 95          | 92          |\n",
       "| Paul        | 3           | 3           | Australia   | 72          | 85          |\n",
       "| Alice       | 1           | 4           | Netherlands | 88          | 90          |\n",
       "\n"
      ],
      "text/plain": [
       "  Name   RollNum Rank Home        Math Science\n",
       "1 Tom    4       2    US          85   78     \n",
       "2 Edward 2       1    Canada      95   92     \n",
       "3 Paul   3       3    Australia   72   85     \n",
       "4 Alice  1       4    Netherlands 88   90     "
      ]
     },
     "metadata": {},
     "output_type": "display_data"
    }
   ],
   "source": [
    "scores = data.frame(\n",
    "  Math = c(85, 95, 72, 88),\n",
    "  Science = c(78, 92, 85, 90))\n",
    "student_df4 = cbind(student_df, scores)\n",
    "student_df4"
   ]
  },
  {
   "cell_type": "code",
   "execution_count": 25,
   "id": "12067d25",
   "metadata": {
    "vscode": {
     "languageId": "r"
    }
   },
   "outputs": [
    {
     "data": {
      "text/html": [
       "<table>\n",
       "<thead><tr><th scope=col>Name</th><th scope=col>RollNum</th><th scope=col>Rank</th><th scope=col>Home</th><th scope=col>Subject</th><th scope=col>Score</th></tr></thead>\n",
       "<tbody>\n",
       "\t<tr><td>Tom        </td><td>4          </td><td>2          </td><td>US         </td><td>Math       </td><td>85         </td></tr>\n",
       "\t<tr><td>Edward     </td><td>2          </td><td>1          </td><td>Canada     </td><td>Math       </td><td>95         </td></tr>\n",
       "\t<tr><td>Paul       </td><td>3          </td><td>3          </td><td>Australia  </td><td>Math       </td><td>72         </td></tr>\n",
       "\t<tr><td>Alice      </td><td>1          </td><td>4          </td><td>Netherlands</td><td>Math       </td><td>88         </td></tr>\n",
       "\t<tr><td>Tom        </td><td>4          </td><td>2          </td><td>US         </td><td>Science    </td><td>78         </td></tr>\n",
       "\t<tr><td>Edward     </td><td>2          </td><td>1          </td><td>Canada     </td><td>Science    </td><td>92         </td></tr>\n",
       "\t<tr><td>Paul       </td><td>3          </td><td>3          </td><td>Australia  </td><td>Science    </td><td>85         </td></tr>\n",
       "\t<tr><td>Alice      </td><td>1          </td><td>4          </td><td>Netherlands</td><td>Science    </td><td>90         </td></tr>\n",
       "</tbody>\n",
       "</table>\n"
      ],
      "text/latex": [
       "\\begin{tabular}{r|llllll}\n",
       " Name & RollNum & Rank & Home & Subject & Score\\\\\n",
       "\\hline\n",
       "\t Tom         & 4           & 2           & US          & Math        & 85         \\\\\n",
       "\t Edward      & 2           & 1           & Canada      & Math        & 95         \\\\\n",
       "\t Paul        & 3           & 3           & Australia   & Math        & 72         \\\\\n",
       "\t Alice       & 1           & 4           & Netherlands & Math        & 88         \\\\\n",
       "\t Tom         & 4           & 2           & US          & Science     & 78         \\\\\n",
       "\t Edward      & 2           & 1           & Canada      & Science     & 92         \\\\\n",
       "\t Paul        & 3           & 3           & Australia   & Science     & 85         \\\\\n",
       "\t Alice       & 1           & 4           & Netherlands & Science     & 90         \\\\\n",
       "\\end{tabular}\n"
      ],
      "text/markdown": [
       "\n",
       "| Name | RollNum | Rank | Home | Subject | Score |\n",
       "|---|---|---|---|---|---|\n",
       "| Tom         | 4           | 2           | US          | Math        | 85          |\n",
       "| Edward      | 2           | 1           | Canada      | Math        | 95          |\n",
       "| Paul        | 3           | 3           | Australia   | Math        | 72          |\n",
       "| Alice       | 1           | 4           | Netherlands | Math        | 88          |\n",
       "| Tom         | 4           | 2           | US          | Science     | 78          |\n",
       "| Edward      | 2           | 1           | Canada      | Science     | 92          |\n",
       "| Paul        | 3           | 3           | Australia   | Science     | 85          |\n",
       "| Alice       | 1           | 4           | Netherlands | Science     | 90          |\n",
       "\n"
      ],
      "text/plain": [
       "  Name   RollNum Rank Home        Subject Score\n",
       "1 Tom    4       2    US          Math    85   \n",
       "2 Edward 2       1    Canada      Math    95   \n",
       "3 Paul   3       3    Australia   Math    72   \n",
       "4 Alice  1       4    Netherlands Math    88   \n",
       "5 Tom    4       2    US          Science 78   \n",
       "6 Edward 2       1    Canada      Science 92   \n",
       "7 Paul   3       3    Australia   Science 85   \n",
       "8 Alice  1       4    Netherlands Science 90   "
      ]
     },
     "metadata": {},
     "output_type": "display_data"
    }
   ],
   "source": [
    "library(reshape2)\n",
    "\n",
    "m_df4 =  melt(student_df4,\n",
    "                  id.vars = c(\"Name\", \"RollNum\", \"Rank\", \"Home\"),\n",
    "                  measure.vars = c(\"Math\", \"Science\"),\n",
    "                  variable.name = \"Subject\",\n",
    "                  value.name = \"Score\")\n",
    "m_df4"
   ]
  },
  {
   "cell_type": "code",
   "execution_count": 26,
   "id": "1751de4a",
   "metadata": {
    "vscode": {
     "languageId": "r"
    }
   },
   "outputs": [
    {
     "data": {
      "text/html": [
       "<table>\n",
       "<thead><tr><th scope=col>Name</th><th scope=col>RollNum</th><th scope=col>Rank</th><th scope=col>Home</th><th scope=col>Math</th><th scope=col>Science</th></tr></thead>\n",
       "<tbody>\n",
       "\t<tr><td>Edward     </td><td>2          </td><td>1          </td><td>Canada     </td><td>95         </td><td>92         </td></tr>\n",
       "\t<tr><td>Paul       </td><td>3          </td><td>3          </td><td>Australia  </td><td>72         </td><td>85         </td></tr>\n",
       "\t<tr><td>Tom        </td><td>4          </td><td>2          </td><td>US         </td><td>85         </td><td>78         </td></tr>\n",
       "\t<tr><td>Alice      </td><td>1          </td><td>4          </td><td>Netherlands</td><td>88         </td><td>90         </td></tr>\n",
       "</tbody>\n",
       "</table>\n"
      ],
      "text/latex": [
       "\\begin{tabular}{r|llllll}\n",
       " Name & RollNum & Rank & Home & Math & Science\\\\\n",
       "\\hline\n",
       "\t Edward      & 2           & 1           & Canada      & 95          & 92         \\\\\n",
       "\t Paul        & 3           & 3           & Australia   & 72          & 85         \\\\\n",
       "\t Tom         & 4           & 2           & US          & 85          & 78         \\\\\n",
       "\t Alice       & 1           & 4           & Netherlands & 88          & 90         \\\\\n",
       "\\end{tabular}\n"
      ],
      "text/markdown": [
       "\n",
       "| Name | RollNum | Rank | Home | Math | Science |\n",
       "|---|---|---|---|---|---|\n",
       "| Edward      | 2           | 1           | Canada      | 95          | 92          |\n",
       "| Paul        | 3           | 3           | Australia   | 72          | 85          |\n",
       "| Tom         | 4           | 2           | US          | 85          | 78          |\n",
       "| Alice       | 1           | 4           | Netherlands | 88          | 90          |\n",
       "\n"
      ],
      "text/plain": [
       "  Name   RollNum Rank Home        Math Science\n",
       "1 Edward 2       1    Canada      95   92     \n",
       "2 Paul   3       3    Australia   72   85     \n",
       "3 Tom    4       2    US          85   78     \n",
       "4 Alice  1       4    Netherlands 88   90     "
      ]
     },
     "metadata": {},
     "output_type": "display_data"
    }
   ],
   "source": [
    "d_df4 = dcast(m_df4, Name + RollNum + Rank + Home ~ Subject, value.var = \"Score\")\n",
    "d_df4\n"
   ]
  },
  {
   "cell_type": "code",
   "execution_count": 27,
   "id": "4b298699",
   "metadata": {
    "vscode": {
     "languageId": "r"
    }
   },
   "outputs": [
    {
     "data": {
      "text/html": [
       "<table>\n",
       "<thead><tr><th scope=col>Subject</th><th scope=col>Edward</th><th scope=col>Paul</th><th scope=col>Tom</th><th scope=col>Alice</th></tr></thead>\n",
       "<tbody>\n",
       "\t<tr><td>Math   </td><td>95     </td><td>72     </td><td>85     </td><td>88     </td></tr>\n",
       "\t<tr><td>Science</td><td>92     </td><td>85     </td><td>78     </td><td>90     </td></tr>\n",
       "</tbody>\n",
       "</table>\n"
      ],
      "text/latex": [
       "\\begin{tabular}{r|lllll}\n",
       " Subject & Edward & Paul & Tom & Alice\\\\\n",
       "\\hline\n",
       "\t Math    & 95      & 72      & 85      & 88     \\\\\n",
       "\t Science & 92      & 85      & 78      & 90     \\\\\n",
       "\\end{tabular}\n"
      ],
      "text/markdown": [
       "\n",
       "| Subject | Edward | Paul | Tom | Alice |\n",
       "|---|---|---|---|---|\n",
       "| Math    | 95      | 72      | 85      | 88      |\n",
       "| Science | 92      | 85      | 78      | 90      |\n",
       "\n"
      ],
      "text/plain": [
       "  Subject Edward Paul Tom Alice\n",
       "1 Math    95     72   85  88   \n",
       "2 Science 92     85   78  90   "
      ]
     },
     "metadata": {},
     "output_type": "display_data"
    }
   ],
   "source": [
    "d_df5 = dcast(m_df4, Subject ~ Name, value.var = \"Score\")\n",
    "d_df5"
   ]
  },
  {
   "cell_type": "markdown",
   "id": "05fd5889",
   "metadata": {},
   "source": [
    "recast() = melt() + dcast() in one function"
   ]
  },
  {
   "cell_type": "markdown",
   "id": "28b56a4c",
   "metadata": {},
   "source": [
    "What's the benefit of doing this?"
   ]
  },
  {
   "cell_type": "markdown",
   "id": "c3dbe8e2",
   "metadata": {},
   "source": [
    "### Mutate function"
   ]
  },
  {
   "cell_type": "code",
   "execution_count": 28,
   "id": "93a6b8f4",
   "metadata": {
    "vscode": {
     "languageId": "r"
    }
   },
   "outputs": [
    {
     "name": "stderr",
     "output_type": "stream",
     "text": [
      "\n",
      "Attaching package: 'dplyr'\n",
      "\n",
      "The following objects are masked from 'package:stats':\n",
      "\n",
      "    filter, lag\n",
      "\n",
      "The following objects are masked from 'package:base':\n",
      "\n",
      "    intersect, setdiff, setequal, union\n",
      "\n"
     ]
    },
    {
     "data": {
      "text/html": [
       "<table>\n",
       "<thead><tr><th scope=col>Name</th><th scope=col>RollNum</th><th scope=col>Rank</th><th scope=col>Home</th><th scope=col>Math</th><th scope=col>Science</th><th scope=col>bon_mark</th></tr></thead>\n",
       "<tbody>\n",
       "\t<tr><td>Tom        </td><td>4          </td><td>2          </td><td>US         </td><td>85         </td><td>78         </td><td>86         </td></tr>\n",
       "\t<tr><td>Edward     </td><td>2          </td><td>1          </td><td>Canada     </td><td>95         </td><td>92         </td><td>96         </td></tr>\n",
       "\t<tr><td>Paul       </td><td>3          </td><td>3          </td><td>Australia  </td><td>72         </td><td>85         </td><td>73         </td></tr>\n",
       "\t<tr><td>Alice      </td><td>1          </td><td>4          </td><td>Netherlands</td><td>88         </td><td>90         </td><td>89         </td></tr>\n",
       "</tbody>\n",
       "</table>\n"
      ],
      "text/latex": [
       "\\begin{tabular}{r|lllllll}\n",
       " Name & RollNum & Rank & Home & Math & Science & bon\\_mark\\\\\n",
       "\\hline\n",
       "\t Tom         & 4           & 2           & US          & 85          & 78          & 86         \\\\\n",
       "\t Edward      & 2           & 1           & Canada      & 95          & 92          & 96         \\\\\n",
       "\t Paul        & 3           & 3           & Australia   & 72          & 85          & 73         \\\\\n",
       "\t Alice       & 1           & 4           & Netherlands & 88          & 90          & 89         \\\\\n",
       "\\end{tabular}\n"
      ],
      "text/markdown": [
       "\n",
       "| Name | RollNum | Rank | Home | Math | Science | bon_mark |\n",
       "|---|---|---|---|---|---|---|\n",
       "| Tom         | 4           | 2           | US          | 85          | 78          | 86          |\n",
       "| Edward      | 2           | 1           | Canada      | 95          | 92          | 96          |\n",
       "| Paul        | 3           | 3           | Australia   | 72          | 85          | 73          |\n",
       "| Alice       | 1           | 4           | Netherlands | 88          | 90          | 89          |\n",
       "\n"
      ],
      "text/plain": [
       "  Name   RollNum Rank Home        Math Science bon_mark\n",
       "1 Tom    4       2    US          85   78      86      \n",
       "2 Edward 2       1    Canada      95   92      96      \n",
       "3 Paul   3       3    Australia   72   85      73      \n",
       "4 Alice  1       4    Netherlands 88   90      89      "
      ]
     },
     "metadata": {},
     "output_type": "display_data"
    }
   ],
   "source": [
    "library(dplyr)\n",
    "student_df6 = mutate(student_df4, bon_mark = Math + 1)\n",
    "student_df6"
   ]
  },
  {
   "cell_type": "markdown",
   "id": "af0414ae",
   "metadata": {},
   "source": [
    "### Join operation"
   ]
  },
  {
   "cell_type": "code",
   "execution_count": 29,
   "id": "d77301ef",
   "metadata": {
    "vscode": {
     "languageId": "r"
    }
   },
   "outputs": [],
   "source": [
    "df1 = data.frame(ID = c(1, 2, 3),\n",
    "                 Name = c(\"Alice\", \"Sam\", \"Ed\"))\n",
    "\n",
    "df2 = data.frame(ID = c(2, 3, 4),\n",
    "                 Score = c(85, 90, 75))\n"
   ]
  },
  {
   "cell_type": "code",
   "execution_count": 30,
   "id": "ff84e5ab",
   "metadata": {
    "vscode": {
     "languageId": "r"
    }
   },
   "outputs": [
    {
     "data": {
      "text/html": [
       "<table>\n",
       "<thead><tr><th scope=col>ID</th><th scope=col>Name</th></tr></thead>\n",
       "<tbody>\n",
       "\t<tr><td>1    </td><td>Alice</td></tr>\n",
       "\t<tr><td>2    </td><td>Sam  </td></tr>\n",
       "\t<tr><td>3    </td><td>Ed   </td></tr>\n",
       "</tbody>\n",
       "</table>\n"
      ],
      "text/latex": [
       "\\begin{tabular}{r|ll}\n",
       " ID & Name\\\\\n",
       "\\hline\n",
       "\t 1     & Alice\\\\\n",
       "\t 2     & Sam  \\\\\n",
       "\t 3     & Ed   \\\\\n",
       "\\end{tabular}\n"
      ],
      "text/markdown": [
       "\n",
       "| ID | Name |\n",
       "|---|---|\n",
       "| 1     | Alice |\n",
       "| 2     | Sam   |\n",
       "| 3     | Ed    |\n",
       "\n"
      ],
      "text/plain": [
       "  ID Name \n",
       "1 1  Alice\n",
       "2 2  Sam  \n",
       "3 3  Ed   "
      ]
     },
     "metadata": {},
     "output_type": "display_data"
    }
   ],
   "source": [
    "df1"
   ]
  },
  {
   "cell_type": "code",
   "execution_count": 31,
   "id": "474dc2ed",
   "metadata": {
    "vscode": {
     "languageId": "r"
    }
   },
   "outputs": [
    {
     "data": {
      "text/html": [
       "<table>\n",
       "<thead><tr><th scope=col>ID</th><th scope=col>Score</th></tr></thead>\n",
       "<tbody>\n",
       "\t<tr><td>2 </td><td>85</td></tr>\n",
       "\t<tr><td>3 </td><td>90</td></tr>\n",
       "\t<tr><td>4 </td><td>75</td></tr>\n",
       "</tbody>\n",
       "</table>\n"
      ],
      "text/latex": [
       "\\begin{tabular}{r|ll}\n",
       " ID & Score\\\\\n",
       "\\hline\n",
       "\t 2  & 85\\\\\n",
       "\t 3  & 90\\\\\n",
       "\t 4  & 75\\\\\n",
       "\\end{tabular}\n"
      ],
      "text/markdown": [
       "\n",
       "| ID | Score |\n",
       "|---|---|\n",
       "| 2  | 85 |\n",
       "| 3  | 90 |\n",
       "| 4  | 75 |\n",
       "\n"
      ],
      "text/plain": [
       "  ID Score\n",
       "1 2  85   \n",
       "2 3  90   \n",
       "3 4  75   "
      ]
     },
     "metadata": {},
     "output_type": "display_data"
    }
   ],
   "source": [
    "df2"
   ]
  },
  {
   "cell_type": "code",
   "execution_count": 32,
   "id": "64bc9cd6",
   "metadata": {
    "vscode": {
     "languageId": "r"
    }
   },
   "outputs": [
    {
     "data": {
      "text/html": [
       "<table>\n",
       "<thead><tr><th scope=col>ID</th><th scope=col>Name</th><th scope=col>Score</th></tr></thead>\n",
       "<tbody>\n",
       "\t<tr><td>2  </td><td>Sam</td><td>85 </td></tr>\n",
       "\t<tr><td>3  </td><td>Ed </td><td>90 </td></tr>\n",
       "</tbody>\n",
       "</table>\n"
      ],
      "text/latex": [
       "\\begin{tabular}{r|lll}\n",
       " ID & Name & Score\\\\\n",
       "\\hline\n",
       "\t 2   & Sam & 85 \\\\\n",
       "\t 3   & Ed  & 90 \\\\\n",
       "\\end{tabular}\n"
      ],
      "text/markdown": [
       "\n",
       "| ID | Name | Score |\n",
       "|---|---|---|\n",
       "| 2   | Sam | 85  |\n",
       "| 3   | Ed  | 90  |\n",
       "\n"
      ],
      "text/plain": [
       "  ID Name Score\n",
       "1 2  Sam  85   \n",
       "2 3  Ed   90   "
      ]
     },
     "metadata": {},
     "output_type": "display_data"
    }
   ],
   "source": [
    "inner_join(df1, df2, by = \"ID\")\n"
   ]
  },
  {
   "cell_type": "code",
   "execution_count": 33,
   "id": "400b705b",
   "metadata": {
    "vscode": {
     "languageId": "r"
    }
   },
   "outputs": [
    {
     "data": {
      "text/html": [
       "<table>\n",
       "<thead><tr><th scope=col>ID</th><th scope=col>Name</th><th scope=col>Score</th></tr></thead>\n",
       "<tbody>\n",
       "\t<tr><td>1    </td><td>Alice</td><td>NA   </td></tr>\n",
       "\t<tr><td>2    </td><td>Sam  </td><td>85   </td></tr>\n",
       "\t<tr><td>3    </td><td>Ed   </td><td>90   </td></tr>\n",
       "</tbody>\n",
       "</table>\n"
      ],
      "text/latex": [
       "\\begin{tabular}{r|lll}\n",
       " ID & Name & Score\\\\\n",
       "\\hline\n",
       "\t 1     & Alice & NA   \\\\\n",
       "\t 2     & Sam   & 85   \\\\\n",
       "\t 3     & Ed    & 90   \\\\\n",
       "\\end{tabular}\n"
      ],
      "text/markdown": [
       "\n",
       "| ID | Name | Score |\n",
       "|---|---|---|\n",
       "| 1     | Alice | NA    |\n",
       "| 2     | Sam   | 85    |\n",
       "| 3     | Ed    | 90    |\n",
       "\n"
      ],
      "text/plain": [
       "  ID Name  Score\n",
       "1 1  Alice NA   \n",
       "2 2  Sam   85   \n",
       "3 3  Ed    90   "
      ]
     },
     "metadata": {},
     "output_type": "display_data"
    }
   ],
   "source": [
    "left_join(df1, df2, by = \"ID\")\n"
   ]
  },
  {
   "cell_type": "code",
   "execution_count": 34,
   "id": "7ab028f3",
   "metadata": {
    "vscode": {
     "languageId": "r"
    }
   },
   "outputs": [
    {
     "data": {
      "text/html": [
       "<table>\n",
       "<thead><tr><th scope=col>ID</th><th scope=col>Name</th><th scope=col>Score</th></tr></thead>\n",
       "<tbody>\n",
       "\t<tr><td>2  </td><td>Sam</td><td>85 </td></tr>\n",
       "\t<tr><td>3  </td><td>Ed </td><td>90 </td></tr>\n",
       "\t<tr><td>4  </td><td>NA </td><td>75 </td></tr>\n",
       "</tbody>\n",
       "</table>\n"
      ],
      "text/latex": [
       "\\begin{tabular}{r|lll}\n",
       " ID & Name & Score\\\\\n",
       "\\hline\n",
       "\t 2   & Sam & 85 \\\\\n",
       "\t 3   & Ed  & 90 \\\\\n",
       "\t 4   & NA  & 75 \\\\\n",
       "\\end{tabular}\n"
      ],
      "text/markdown": [
       "\n",
       "| ID | Name | Score |\n",
       "|---|---|---|\n",
       "| 2   | Sam | 85  |\n",
       "| 3   | Ed  | 90  |\n",
       "| 4   | NA  | 75  |\n",
       "\n"
      ],
      "text/plain": [
       "  ID Name Score\n",
       "1 2  Sam  85   \n",
       "2 3  Ed   90   \n",
       "3 4  NA   75   "
      ]
     },
     "metadata": {},
     "output_type": "display_data"
    }
   ],
   "source": [
    "right_join(df1, df2, by = \"ID\")\n"
   ]
  },
  {
   "cell_type": "markdown",
   "id": "329a88c9",
   "metadata": {},
   "source": [
    "### Hierarchy of operations"
   ]
  },
  {
   "cell_type": "code",
   "execution_count": 35,
   "id": "06bb9be3",
   "metadata": {
    "vscode": {
     "languageId": "r"
    }
   },
   "outputs": [
    {
     "data": {
      "text/html": [
       "2"
      ],
      "text/latex": [
       "2"
      ],
      "text/markdown": [
       "2"
      ],
      "text/plain": [
       "[1] 2"
      ]
     },
     "metadata": {},
     "output_type": "display_data"
    }
   ],
   "source": [
    "\n",
    "A1 = 5 + 3 * (2^4 / 4^2) - 6\n",
    "\n",
    "A1\n"
   ]
  },
  {
   "cell_type": "code",
   "execution_count": 36,
   "id": "270d88f6",
   "metadata": {
    "vscode": {
     "languageId": "r"
    }
   },
   "outputs": [
    {
     "data": {
      "text/html": [
       "1"
      ],
      "text/latex": [
       "1"
      ],
      "text/markdown": [
       "1"
      ],
      "text/plain": [
       "[1] 1"
      ]
     },
     "metadata": {},
     "output_type": "display_data"
    }
   ],
   "source": [
    "\n",
    "A2 = 12 - 4 * (3^2 / 3) + 1\n",
    "A2"
   ]
  },
  {
   "cell_type": "code",
   "execution_count": 37,
   "id": "d3dd77c5",
   "metadata": {
    "vscode": {
     "languageId": "r"
    }
   },
   "outputs": [
    {
     "data": {
      "text/html": [
       "37"
      ],
      "text/latex": [
       "37"
      ],
      "text/markdown": [
       "37"
      ],
      "text/plain": [
       "[1] 37"
      ]
     },
     "metadata": {},
     "output_type": "display_data"
    }
   ],
   "source": [
    "\n",
    "A3 = 10 + 2 * (4^3 / 2^2) - 5\n",
    "\n",
    "A3"
   ]
  },
  {
   "cell_type": "code",
   "execution_count": 38,
   "id": "f4071315",
   "metadata": {
    "vscode": {
     "languageId": "r"
    }
   },
   "outputs": [
    {
     "data": {
      "text/html": [
       "0"
      ],
      "text/latex": [
       "0"
      ],
      "text/markdown": [
       "0"
      ],
      "text/plain": [
       "[1] 0"
      ]
     },
     "metadata": {},
     "output_type": "display_data"
    }
   ],
   "source": [
    "\n",
    "A4 = 8 - 3 * (5^2 / 5) + 7\n",
    "A4"
   ]
  },
  {
   "cell_type": "markdown",
   "id": "e7effada",
   "metadata": {},
   "source": [
    "### Matrices"
   ]
  },
  {
   "cell_type": "code",
   "execution_count": 39,
   "id": "99ea40c3",
   "metadata": {
    "vscode": {
     "languageId": "r"
    }
   },
   "outputs": [
    {
     "name": "stdout",
     "output_type": "stream",
     "text": [
      "     [,1] [,2] [,3]\n",
      "[1,]    1    4    7\n",
      "[2,]    2    5    8\n",
      "[3,]    3    6    9\n"
     ]
    }
   ],
   "source": [
    "m = matrix(1:9, nrow = 3, ncol = 3)\n",
    "print(m)\n"
   ]
  },
  {
   "cell_type": "code",
   "execution_count": 40,
   "id": "eb2f9291",
   "metadata": {
    "vscode": {
     "languageId": "r"
    }
   },
   "outputs": [
    {
     "data": {
      "text/html": [
       "4"
      ],
      "text/latex": [
       "4"
      ],
      "text/markdown": [
       "4"
      ],
      "text/plain": [
       "[1] 4"
      ]
     },
     "metadata": {},
     "output_type": "display_data"
    }
   ],
   "source": [
    "m[1,2]   \n",
    "\n"
   ]
  },
  {
   "cell_type": "code",
   "execution_count": 41,
   "id": "ff04858a",
   "metadata": {
    "vscode": {
     "languageId": "r"
    }
   },
   "outputs": [
    {
     "data": {
      "text/html": [
       "<ol class=list-inline>\n",
       "\t<li>4</li>\n",
       "\t<li>5</li>\n",
       "\t<li>6</li>\n",
       "</ol>\n"
      ],
      "text/latex": [
       "\\begin{enumerate*}\n",
       "\\item 4\n",
       "\\item 5\n",
       "\\item 6\n",
       "\\end{enumerate*}\n"
      ],
      "text/markdown": [
       "1. 4\n",
       "2. 5\n",
       "3. 6\n",
       "\n",
       "\n"
      ],
      "text/plain": [
       "[1] 4 5 6"
      ]
     },
     "metadata": {},
     "output_type": "display_data"
    }
   ],
   "source": [
    "m[ ,2]   \n"
   ]
  },
  {
   "cell_type": "code",
   "execution_count": 42,
   "id": "5af91e12",
   "metadata": {
    "vscode": {
     "languageId": "r"
    }
   },
   "outputs": [
    {
     "data": {
      "text/html": [
       "<ol class=list-inline>\n",
       "\t<li>3</li>\n",
       "\t<li>6</li>\n",
       "\t<li>9</li>\n",
       "</ol>\n"
      ],
      "text/latex": [
       "\\begin{enumerate*}\n",
       "\\item 3\n",
       "\\item 6\n",
       "\\item 9\n",
       "\\end{enumerate*}\n"
      ],
      "text/markdown": [
       "1. 3\n",
       "2. 6\n",
       "3. 9\n",
       "\n",
       "\n"
      ],
      "text/plain": [
       "[1] 3 6 9"
      ]
     },
     "metadata": {},
     "output_type": "display_data"
    }
   ],
   "source": [
    "m[3, ]    "
   ]
  },
  {
   "cell_type": "code",
   "execution_count": 43,
   "id": "c5b66857",
   "metadata": {
    "vscode": {
     "languageId": "r"
    }
   },
   "outputs": [
    {
     "name": "stdout",
     "output_type": "stream",
     "text": [
      "     [,1] [,2] [,3]\n",
      "[1,]  100    4    7\n",
      "[2,]    2    5    8\n",
      "[3,]    3    6    9\n"
     ]
    }
   ],
   "source": [
    "m[1, 1] = 100   \n",
    "print(m)\n"
   ]
  },
  {
   "cell_type": "code",
   "execution_count": 44,
   "id": "82fbe2a9",
   "metadata": {
    "vscode": {
     "languageId": "r"
    }
   },
   "outputs": [
    {
     "name": "stdout",
     "output_type": "stream",
     "text": [
      "     [,1] [,2] [,3]\n",
      "[1,]  100    4    7\n",
      "[2,]    3    6    9\n"
     ]
    }
   ],
   "source": [
    "m2 = m[-2, ]    \n",
    "print(m2)\n",
    " \n"
   ]
  },
  {
   "cell_type": "code",
   "execution_count": 45,
   "id": "4fe27c15",
   "metadata": {
    "vscode": {
     "languageId": "r"
    }
   },
   "outputs": [
    {
     "name": "stdout",
     "output_type": "stream",
     "text": [
      "     [,1] [,2]\n",
      "[1,]    4    7\n",
      "[2,]    5    8\n",
      "[3,]    6    9\n"
     ]
    }
   ],
   "source": [
    "m3 = m[ , -1]  \n",
    "print(m3)"
   ]
  },
  {
   "cell_type": "code",
   "execution_count": 46,
   "id": "a86bf1e9",
   "metadata": {
    "vscode": {
     "languageId": "r"
    }
   },
   "outputs": [
    {
     "data": {
      "text/html": [
       "<ol class=list-inline>\n",
       "\t<li>3</li>\n",
       "\t<li>3</li>\n",
       "</ol>\n"
      ],
      "text/latex": [
       "\\begin{enumerate*}\n",
       "\\item 3\n",
       "\\item 3\n",
       "\\end{enumerate*}\n"
      ],
      "text/markdown": [
       "1. 3\n",
       "2. 3\n",
       "\n",
       "\n"
      ],
      "text/plain": [
       "[1] 3 3"
      ]
     },
     "metadata": {},
     "output_type": "display_data"
    },
    {
     "data": {
      "text/html": [
       "3"
      ],
      "text/latex": [
       "3"
      ],
      "text/markdown": [
       "3"
      ],
      "text/plain": [
       "[1] 3"
      ]
     },
     "metadata": {},
     "output_type": "display_data"
    },
    {
     "data": {
      "text/html": [
       "3"
      ],
      "text/latex": [
       "3"
      ],
      "text/markdown": [
       "3"
      ],
      "text/plain": [
       "[1] 3"
      ]
     },
     "metadata": {},
     "output_type": "display_data"
    }
   ],
   "source": [
    "dim(m)      \n",
    "nrow(m)    \n",
    "ncol(m)     \n"
   ]
  },
  {
   "cell_type": "code",
   "execution_count": 47,
   "id": "76544c7f",
   "metadata": {
    "vscode": {
     "languageId": "r"
    }
   },
   "outputs": [
    {
     "data": {
      "text/html": [
       "144"
      ],
      "text/latex": [
       "144"
      ],
      "text/markdown": [
       "144"
      ],
      "text/plain": [
       "[1] 144"
      ]
     },
     "metadata": {},
     "output_type": "display_data"
    }
   ],
   "source": [
    "sum(m)       \n",
    "  \n"
   ]
  },
  {
   "cell_type": "code",
   "execution_count": 48,
   "id": "882e75c8",
   "metadata": {
    "vscode": {
     "languageId": "r"
    }
   },
   "outputs": [
    {
     "data": {
      "text/html": [
       "36288000"
      ],
      "text/latex": [
       "36288000"
      ],
      "text/markdown": [
       "36288000"
      ],
      "text/plain": [
       "[1] 36288000"
      ]
     },
     "metadata": {},
     "output_type": "display_data"
    }
   ],
   "source": [
    "prod(m)      \n"
   ]
  },
  {
   "cell_type": "code",
   "execution_count": 49,
   "id": "3d481c20",
   "metadata": {
    "vscode": {
     "languageId": "r"
    }
   },
   "outputs": [
    {
     "data": {
      "text/html": [
       "<ol class=list-inline>\n",
       "\t<li>111</li>\n",
       "\t<li>15</li>\n",
       "\t<li>18</li>\n",
       "</ol>\n"
      ],
      "text/latex": [
       "\\begin{enumerate*}\n",
       "\\item 111\n",
       "\\item 15\n",
       "\\item 18\n",
       "\\end{enumerate*}\n"
      ],
      "text/markdown": [
       "1. 111\n",
       "2. 15\n",
       "3. 18\n",
       "\n",
       "\n"
      ],
      "text/plain": [
       "[1] 111  15  18"
      ]
     },
     "metadata": {},
     "output_type": "display_data"
    }
   ],
   "source": [
    "rowSums(m)  \n"
   ]
  },
  {
   "cell_type": "code",
   "execution_count": 50,
   "id": "b37b482d",
   "metadata": {
    "vscode": {
     "languageId": "r"
    }
   },
   "outputs": [
    {
     "data": {
      "text/html": [
       "<ol class=list-inline>\n",
       "\t<li>105</li>\n",
       "\t<li>15</li>\n",
       "\t<li>24</li>\n",
       "</ol>\n"
      ],
      "text/latex": [
       "\\begin{enumerate*}\n",
       "\\item 105\n",
       "\\item 15\n",
       "\\item 24\n",
       "\\end{enumerate*}\n"
      ],
      "text/markdown": [
       "1. 105\n",
       "2. 15\n",
       "3. 24\n",
       "\n",
       "\n"
      ],
      "text/plain": [
       "[1] 105  15  24"
      ]
     },
     "metadata": {},
     "output_type": "display_data"
    }
   ],
   "source": [
    "colSums(m) "
   ]
  },
  {
   "cell_type": "markdown",
   "id": "b39570c8",
   "metadata": {},
   "source": [
    "\n",
    "$\n",
    "B = \\begin{bmatrix}\n",
    "2 & 5 & 8 \\\\\n",
    "3 & 6 & 9 \\\\\n",
    "1 & 4 & 7 \\\\\n",
    "\\end{bmatrix}\n",
    "$\n",
    "\n",
    "\n",
    "\n",
    "\n",
    "- Change the element **9** to **10**\n",
    "- Access the **first row and second column**\n",
    "- List all the elements in the **third column** and **second row**\n",
    "\n",
    "- Find the **sum** of all elements in `B`\n",
    "- Multiply all elements using `prod()`\n"
   ]
  },
  {
   "cell_type": "markdown",
   "id": "afab1d34",
   "metadata": {},
   "source": [
    "Using colon operator to create row matrix"
   ]
  },
  {
   "cell_type": "code",
   "execution_count": 51,
   "id": "e7f2fea6",
   "metadata": {
    "vscode": {
     "languageId": "r"
    }
   },
   "outputs": [
    {
     "data": {
      "text/html": [
       "<ol class=list-inline>\n",
       "\t<li>1</li>\n",
       "\t<li>2</li>\n",
       "\t<li>3</li>\n",
       "\t<li>4</li>\n",
       "\t<li>5</li>\n",
       "\t<li>6</li>\n",
       "\t<li>7</li>\n",
       "\t<li>8</li>\n",
       "\t<li>9</li>\n",
       "\t<li>10</li>\n",
       "</ol>\n"
      ],
      "text/latex": [
       "\\begin{enumerate*}\n",
       "\\item 1\n",
       "\\item 2\n",
       "\\item 3\n",
       "\\item 4\n",
       "\\item 5\n",
       "\\item 6\n",
       "\\item 7\n",
       "\\item 8\n",
       "\\item 9\n",
       "\\item 10\n",
       "\\end{enumerate*}\n"
      ],
      "text/markdown": [
       "1. 1\n",
       "2. 2\n",
       "3. 3\n",
       "4. 4\n",
       "5. 5\n",
       "6. 6\n",
       "7. 7\n",
       "8. 8\n",
       "9. 9\n",
       "10. 10\n",
       "\n",
       "\n"
      ],
      "text/plain": [
       " [1]  1  2  3  4  5  6  7  8  9 10"
      ]
     },
     "metadata": {},
     "output_type": "display_data"
    }
   ],
   "source": [
    "1:10"
   ]
  },
  {
   "cell_type": "code",
   "execution_count": 52,
   "id": "d73b9ab2",
   "metadata": {
    "vscode": {
     "languageId": "r"
    }
   },
   "outputs": [
    {
     "data": {
      "text/html": [
       "<table>\n",
       "<tbody>\n",
       "\t<tr><td>1</td><td>3</td><td>5</td></tr>\n",
       "\t<tr><td>2</td><td>4</td><td>6</td></tr>\n",
       "\t<tr><td>7</td><td>8</td><td>9</td></tr>\n",
       "</tbody>\n",
       "</table>\n"
      ],
      "text/latex": [
       "\\begin{tabular}{lll}\n",
       "\t 1 & 3 & 5\\\\\n",
       "\t 2 & 4 & 6\\\\\n",
       "\t 7 & 8 & 9\\\\\n",
       "\\end{tabular}\n"
      ],
      "text/markdown": [
       "\n",
       "| 1 | 3 | 5 |\n",
       "| 2 | 4 | 6 |\n",
       "| 7 | 8 | 9 |\n",
       "\n"
      ],
      "text/plain": [
       "     [,1] [,2] [,3]\n",
       "[1,] 1    3    5   \n",
       "[2,] 2    4    6   \n",
       "[3,] 7    8    9   "
      ]
     },
     "metadata": {},
     "output_type": "display_data"
    }
   ],
   "source": [
    "m = matrix(1:6, nrow = 2)\n",
    "\n",
    "m2 = rbind(m, c(7, 8, 9))\n",
    "m2\n"
   ]
  },
  {
   "cell_type": "code",
   "execution_count": 53,
   "id": "e03c27f1",
   "metadata": {
    "vscode": {
     "languageId": "r"
    }
   },
   "outputs": [
    {
     "data": {
      "text/html": [
       "<table>\n",
       "<tbody>\n",
       "\t<tr><td>1 </td><td>3 </td><td>5 </td><td>10</td></tr>\n",
       "\t<tr><td>2 </td><td>4 </td><td>6 </td><td>11</td></tr>\n",
       "\t<tr><td>7 </td><td>8 </td><td>9 </td><td>12</td></tr>\n",
       "</tbody>\n",
       "</table>\n"
      ],
      "text/latex": [
       "\\begin{tabular}{llll}\n",
       "\t 1  & 3  & 5  & 10\\\\\n",
       "\t 2  & 4  & 6  & 11\\\\\n",
       "\t 7  & 8  & 9  & 12\\\\\n",
       "\\end{tabular}\n"
      ],
      "text/markdown": [
       "\n",
       "| 1  | 3  | 5  | 10 |\n",
       "| 2  | 4  | 6  | 11 |\n",
       "| 7  | 8  | 9  | 12 |\n",
       "\n"
      ],
      "text/plain": [
       "     [,1] [,2] [,3] [,4]\n",
       "[1,] 1    3    5    10  \n",
       "[2,] 2    4    6    11  \n",
       "[3,] 7    8    9    12  "
      ]
     },
     "metadata": {},
     "output_type": "display_data"
    }
   ],
   "source": [
    "m3 = cbind(m2, c(10, 11, 12))\n",
    "m3"
   ]
  },
  {
   "cell_type": "code",
   "execution_count": 54,
   "id": "05974cc8",
   "metadata": {
    "vscode": {
     "languageId": "r"
    }
   },
   "outputs": [
    {
     "data": {
      "text/html": [
       "<table>\n",
       "<tbody>\n",
       "\t<tr><td> 1</td><td> 3</td><td> 5</td></tr>\n",
       "\t<tr><td>-1</td><td>-2</td><td>-3</td></tr>\n",
       "\t<tr><td> 2</td><td> 4</td><td> 6</td></tr>\n",
       "</tbody>\n",
       "</table>\n"
      ],
      "text/latex": [
       "\\begin{tabular}{lll}\n",
       "\t  1 &  3 &  5\\\\\n",
       "\t -1 & -2 & -3\\\\\n",
       "\t  2 &  4 &  6\\\\\n",
       "\\end{tabular}\n"
      ],
      "text/markdown": [
       "\n",
       "|  1 |  3 |  5 |\n",
       "| -1 | -2 | -3 |\n",
       "|  2 |  4 |  6 |\n",
       "\n"
      ],
      "text/plain": [
       "     [,1] [,2] [,3]\n",
       "[1,]  1    3    5  \n",
       "[2,] -1   -2   -3  \n",
       "[3,]  2    4    6  "
      ]
     },
     "metadata": {},
     "output_type": "display_data"
    }
   ],
   "source": [
    "m_4 = rbind(m[1, ], c(-1, -2, -3), m[2, ])\n",
    "m_4"
   ]
  },
  {
   "cell_type": "markdown",
   "id": "32e66a70",
   "metadata": {},
   "source": [
    "### Matrix operations"
   ]
  },
  {
   "cell_type": "code",
   "execution_count": 55,
   "id": "631f349a",
   "metadata": {
    "vscode": {
     "languageId": "r"
    }
   },
   "outputs": [],
   "source": [
    "A = matrix(c(1, 2, 3, 4), nrow = 2)\n",
    "B = matrix(c(5, 6, 7, 8), nrow = 2)"
   ]
  },
  {
   "cell_type": "code",
   "execution_count": 56,
   "id": "8eabb362",
   "metadata": {
    "vscode": {
     "languageId": "r"
    }
   },
   "outputs": [
    {
     "data": {
      "text/html": [
       "<table>\n",
       "<tbody>\n",
       "\t<tr><td>6 </td><td>10</td></tr>\n",
       "\t<tr><td>8 </td><td>12</td></tr>\n",
       "</tbody>\n",
       "</table>\n"
      ],
      "text/latex": [
       "\\begin{tabular}{ll}\n",
       "\t 6  & 10\\\\\n",
       "\t 8  & 12\\\\\n",
       "\\end{tabular}\n"
      ],
      "text/markdown": [
       "\n",
       "| 6  | 10 |\n",
       "| 8  | 12 |\n",
       "\n"
      ],
      "text/plain": [
       "     [,1] [,2]\n",
       "[1,] 6    10  \n",
       "[2,] 8    12  "
      ]
     },
     "metadata": {},
     "output_type": "display_data"
    }
   ],
   "source": [
    "A + B"
   ]
  },
  {
   "cell_type": "code",
   "execution_count": 57,
   "id": "fa0df794",
   "metadata": {
    "vscode": {
     "languageId": "r"
    }
   },
   "outputs": [
    {
     "data": {
      "text/html": [
       "<table>\n",
       "<tbody>\n",
       "\t<tr><td>-4</td><td>-4</td></tr>\n",
       "\t<tr><td>-4</td><td>-4</td></tr>\n",
       "</tbody>\n",
       "</table>\n"
      ],
      "text/latex": [
       "\\begin{tabular}{ll}\n",
       "\t -4 & -4\\\\\n",
       "\t -4 & -4\\\\\n",
       "\\end{tabular}\n"
      ],
      "text/markdown": [
       "\n",
       "| -4 | -4 |\n",
       "| -4 | -4 |\n",
       "\n"
      ],
      "text/plain": [
       "     [,1] [,2]\n",
       "[1,] -4   -4  \n",
       "[2,] -4   -4  "
      ]
     },
     "metadata": {},
     "output_type": "display_data"
    }
   ],
   "source": [
    "A - B"
   ]
  },
  {
   "cell_type": "code",
   "execution_count": 58,
   "id": "ca9b175a",
   "metadata": {
    "vscode": {
     "languageId": "r"
    }
   },
   "outputs": [
    {
     "data": {
      "text/html": [
       "<table>\n",
       "<tbody>\n",
       "\t<tr><td> 5</td><td>21</td></tr>\n",
       "\t<tr><td>12</td><td>32</td></tr>\n",
       "</tbody>\n",
       "</table>\n"
      ],
      "text/latex": [
       "\\begin{tabular}{ll}\n",
       "\t  5 & 21\\\\\n",
       "\t 12 & 32\\\\\n",
       "\\end{tabular}\n"
      ],
      "text/markdown": [
       "\n",
       "|  5 | 21 |\n",
       "| 12 | 32 |\n",
       "\n"
      ],
      "text/plain": [
       "     [,1] [,2]\n",
       "[1,]  5   21  \n",
       "[2,] 12   32  "
      ]
     },
     "metadata": {},
     "output_type": "display_data"
    }
   ],
   "source": [
    "A * B"
   ]
  },
  {
   "cell_type": "code",
   "execution_count": 59,
   "id": "78fc1c94",
   "metadata": {
    "vscode": {
     "languageId": "r"
    }
   },
   "outputs": [
    {
     "data": {
      "text/html": [
       "<table>\n",
       "<tbody>\n",
       "\t<tr><td>0.2000000</td><td>0.4285714</td></tr>\n",
       "\t<tr><td>0.3333333</td><td>0.5000000</td></tr>\n",
       "</tbody>\n",
       "</table>\n"
      ],
      "text/latex": [
       "\\begin{tabular}{ll}\n",
       "\t 0.2000000 & 0.4285714\\\\\n",
       "\t 0.3333333 & 0.5000000\\\\\n",
       "\\end{tabular}\n"
      ],
      "text/markdown": [
       "\n",
       "| 0.2000000 | 0.4285714 |\n",
       "| 0.3333333 | 0.5000000 |\n",
       "\n"
      ],
      "text/plain": [
       "     [,1]      [,2]     \n",
       "[1,] 0.2000000 0.4285714\n",
       "[2,] 0.3333333 0.5000000"
      ]
     },
     "metadata": {},
     "output_type": "display_data"
    }
   ],
   "source": [
    "A / B"
   ]
  },
  {
   "cell_type": "code",
   "execution_count": 60,
   "id": "205d941b",
   "metadata": {
    "vscode": {
     "languageId": "r"
    }
   },
   "outputs": [
    {
     "data": {
      "text/html": [
       "<table>\n",
       "<tbody>\n",
       "\t<tr><td>23</td><td>31</td></tr>\n",
       "\t<tr><td>34</td><td>46</td></tr>\n",
       "</tbody>\n",
       "</table>\n"
      ],
      "text/latex": [
       "\\begin{tabular}{ll}\n",
       "\t 23 & 31\\\\\n",
       "\t 34 & 46\\\\\n",
       "\\end{tabular}\n"
      ],
      "text/markdown": [
       "\n",
       "| 23 | 31 |\n",
       "| 34 | 46 |\n",
       "\n"
      ],
      "text/plain": [
       "     [,1] [,2]\n",
       "[1,] 23   31  \n",
       "[2,] 34   46  "
      ]
     },
     "metadata": {},
     "output_type": "display_data"
    }
   ],
   "source": [
    "A %*% B"
   ]
  },
  {
   "cell_type": "markdown",
   "id": "3c571841",
   "metadata": {},
   "source": [
    "### Functions"
   ]
  },
  {
   "cell_type": "code",
   "execution_count": 61,
   "id": "3581d93d",
   "metadata": {
    "vscode": {
     "languageId": "r"
    }
   },
   "outputs": [],
   "source": [
    "area_square = function(side) {\n",
    "  return(side^2)\n",
    "}\n"
   ]
  },
  {
   "cell_type": "markdown",
   "id": "7d147676",
   "metadata": {},
   "source": [
    "How do you call this?"
   ]
  },
  {
   "cell_type": "code",
   "execution_count": 62,
   "id": "909d0474",
   "metadata": {
    "vscode": {
     "languageId": "r"
    }
   },
   "outputs": [
    {
     "data": {
      "text/html": [
       "16"
      ],
      "text/latex": [
       "16"
      ],
      "text/markdown": [
       "16"
      ],
      "text/plain": [
       "[1] 16"
      ]
     },
     "metadata": {},
     "output_type": "display_data"
    },
    {
     "data": {
      "text/html": [
       "49"
      ],
      "text/latex": [
       "49"
      ],
      "text/markdown": [
       "49"
      ],
      "text/plain": [
       "[1] 49"
      ]
     },
     "metadata": {},
     "output_type": "display_data"
    }
   ],
   "source": [
    "area_square(4)  \n",
    "area_square(7)  \n"
   ]
  },
  {
   "cell_type": "code",
   "execution_count": 63,
   "id": "d1846eb2",
   "metadata": {
    "vscode": {
     "languageId": "r"
    }
   },
   "outputs": [],
   "source": [
    "rect_area_peri = function(length, width) {\n",
    "  area = length * width\n",
    "  perimeter = 2 * (length + width)\n",
    "  \n",
    "  return(list(area = area, perimeter = perimeter))\n",
    "}\n",
    "\n",
    "\n"
   ]
  },
  {
   "cell_type": "code",
   "execution_count": 64,
   "id": "c876aba9",
   "metadata": {
    "vscode": {
     "languageId": "r"
    }
   },
   "outputs": [
    {
     "name": "stdout",
     "output_type": "stream",
     "text": [
      "$area\n",
      "[1] 15\n",
      "\n",
      "$perimeter\n",
      "[1] 16\n",
      "\n"
     ]
    }
   ],
   "source": [
    "result = rect_area_peri(5, 3)\n",
    "print(result)\n"
   ]
  },
  {
   "cell_type": "code",
   "execution_count": 65,
   "id": "f58a32fb",
   "metadata": {
    "vscode": {
     "languageId": "r"
    }
   },
   "outputs": [
    {
     "data": {
      "text/html": [
       "<strong>$area</strong> = 15"
      ],
      "text/latex": [
       "\\textbf{\\$area} = 15"
      ],
      "text/markdown": [
       "**$area** = 15"
      ],
      "text/plain": [
       "$area\n",
       "[1] 15\n"
      ]
     },
     "metadata": {},
     "output_type": "display_data"
    }
   ],
   "source": [
    "result['area']"
   ]
  },
  {
   "cell_type": "code",
   "execution_count": 66,
   "id": "60ff3a28",
   "metadata": {
    "vscode": {
     "languageId": "r"
    }
   },
   "outputs": [
    {
     "data": {
      "text/html": [
       "<pre class=language-r><code>function (total_mark) \n",
       "total_mark + 10</code></pre>"
      ],
      "text/latex": [
       "\\begin{minted}{r}\n",
       "function (total\\_mark) \n",
       "total\\_mark + 10\n",
       "\\end{minted}"
      ],
      "text/markdown": [
       "```r\n",
       "function (total_mark) \n",
       "total_mark + 10\n",
       "```"
      ],
      "text/plain": [
       "function(total_mark) total_mark + 10"
      ]
     },
     "metadata": {},
     "output_type": "display_data"
    }
   ],
   "source": [
    "function(total_mark) total_mark + 10\n"
   ]
  },
  {
   "cell_type": "code",
   "execution_count": 67,
   "id": "92325133",
   "metadata": {
    "vscode": {
     "languageId": "r"
    }
   },
   "outputs": [
    {
     "data": {
      "text/html": [
       "<ol class=list-inline>\n",
       "\t<li>80</li>\n",
       "\t<li>81</li>\n",
       "\t<li>82</li>\n",
       "\t<li>83</li>\n",
       "\t<li>84</li>\n",
       "\t<li>85</li>\n",
       "</ol>\n"
      ],
      "text/latex": [
       "\\begin{enumerate*}\n",
       "\\item 80\n",
       "\\item 81\n",
       "\\item 82\n",
       "\\item 83\n",
       "\\item 84\n",
       "\\item 85\n",
       "\\end{enumerate*}\n"
      ],
      "text/markdown": [
       "1. 80\n",
       "2. 81\n",
       "3. 82\n",
       "4. 83\n",
       "5. 84\n",
       "6. 85\n",
       "\n",
       "\n"
      ],
      "text/plain": [
       "[1] 80 81 82 83 84 85"
      ]
     },
     "metadata": {},
     "output_type": "display_data"
    }
   ],
   "source": [
    "sapply(70:75, function(total_mark) total_mark + 10)\n"
   ]
  },
  {
   "cell_type": "code",
   "execution_count": 68,
   "id": "8448d605",
   "metadata": {
    "vscode": {
     "languageId": "r"
    }
   },
   "outputs": [
    {
     "name": "stdout",
     "output_type": "stream",
     "text": [
      "     [,1] [,2] [,3]\n",
      "[1,]    1    4    7\n",
      "[2,]    2    5    8\n",
      "[3,]    3    6    9\n"
     ]
    },
    {
     "data": {
      "text/html": [
       "<ol class=list-inline>\n",
       "\t<li>12</li>\n",
       "\t<li>15</li>\n",
       "\t<li>18</li>\n",
       "</ol>\n"
      ],
      "text/latex": [
       "\\begin{enumerate*}\n",
       "\\item 12\n",
       "\\item 15\n",
       "\\item 18\n",
       "\\end{enumerate*}\n"
      ],
      "text/markdown": [
       "1. 12\n",
       "2. 15\n",
       "3. 18\n",
       "\n",
       "\n"
      ],
      "text/plain": [
       "[1] 12 15 18"
      ]
     },
     "metadata": {},
     "output_type": "display_data"
    },
    {
     "data": {
      "text/html": [
       "<ol class=list-inline>\n",
       "\t<li>6</li>\n",
       "\t<li>15</li>\n",
       "\t<li>24</li>\n",
       "</ol>\n"
      ],
      "text/latex": [
       "\\begin{enumerate*}\n",
       "\\item 6\n",
       "\\item 15\n",
       "\\item 24\n",
       "\\end{enumerate*}\n"
      ],
      "text/markdown": [
       "1. 6\n",
       "2. 15\n",
       "3. 24\n",
       "\n",
       "\n"
      ],
      "text/plain": [
       "[1]  6 15 24"
      ]
     },
     "metadata": {},
     "output_type": "display_data"
    }
   ],
   "source": [
    "m = matrix(1:9, nrow = 3)\n",
    "print(m)\n",
    "apply(m, 1, sum)\n",
    "apply(m, 2, sum)\n"
   ]
  },
  {
   "cell_type": "code",
   "execution_count": 69,
   "id": "fe2c6300",
   "metadata": {
    "vscode": {
     "languageId": "r"
    }
   },
   "outputs": [
    {
     "data": {
      "text/html": [
       "<dl>\n",
       "\t<dt>$a</dt>\n",
       "\t\t<dd>6</dd>\n",
       "\t<dt>$b</dt>\n",
       "\t\t<dd>15</dd>\n",
       "</dl>\n"
      ],
      "text/latex": [
       "\\begin{description}\n",
       "\\item[\\$a] 6\n",
       "\\item[\\$b] 15\n",
       "\\end{description}\n"
      ],
      "text/markdown": [
       "$a\n",
       ":   6\n",
       "$b\n",
       ":   15\n",
       "\n",
       "\n"
      ],
      "text/plain": [
       "$a\n",
       "[1] 6\n",
       "\n",
       "$b\n",
       "[1] 15\n"
      ]
     },
     "metadata": {},
     "output_type": "display_data"
    }
   ],
   "source": [
    "my_list = list(a = 1:3, b = 4:6)\n",
    "\n",
    "lapply(my_list, sum)\n"
   ]
  },
  {
   "cell_type": "code",
   "execution_count": 70,
   "id": "e4464fdd",
   "metadata": {
    "vscode": {
     "languageId": "r"
    }
   },
   "outputs": [
    {
     "data": {
      "text/html": [
       "<ol class=list-inline>\n",
       "\t<li>11</li>\n",
       "\t<li>22</li>\n",
       "\t<li>33</li>\n",
       "</ol>\n"
      ],
      "text/latex": [
       "\\begin{enumerate*}\n",
       "\\item 11\n",
       "\\item 22\n",
       "\\item 33\n",
       "\\end{enumerate*}\n"
      ],
      "text/markdown": [
       "1. 11\n",
       "2. 22\n",
       "3. 33\n",
       "\n",
       "\n"
      ],
      "text/plain": [
       "[1] 11 22 33"
      ]
     },
     "metadata": {},
     "output_type": "display_data"
    }
   ],
   "source": [
    "\n",
    "mapply(sum, c(1, 2, 3), c(10, 20, 30))\n",
    "\n"
   ]
  },
  {
   "cell_type": "code",
   "execution_count": 71,
   "id": "bd4538de",
   "metadata": {
    "vscode": {
     "languageId": "r"
    }
   },
   "outputs": [
    {
     "data": {
      "text/html": [
       "<dl class=dl-horizontal>\n",
       "\t<dt>1</dt>\n",
       "\t\t<dd>15</dd>\n",
       "\t<dt>2</dt>\n",
       "\t\t<dd>8</dd>\n",
       "\t<dt>3</dt>\n",
       "\t\t<dd>10</dd>\n",
       "</dl>\n"
      ],
      "text/latex": [
       "\\begin{description*}\n",
       "\\item[1] 15\n",
       "\\item[2] 8\n",
       "\\item[3] 10\n",
       "\\end{description*}\n"
      ],
      "text/markdown": [
       "1\n",
       ":   152\n",
       ":   83\n",
       ":   10\n",
       "\n"
      ],
      "text/plain": [
       " 1  2  3 \n",
       "15  8 10 "
      ]
     },
     "metadata": {},
     "output_type": "display_data"
    }
   ],
   "source": [
    "id = c(1, 1, 2, 2, 3, 3)\n",
    "values = c(5, 10, 2, 6, 3, 7)\n",
    "\n",
    "tapply(values, id, sum)\n"
   ]
  },
  {
   "cell_type": "markdown",
   "id": "fcb61f2a",
   "metadata": {},
   "source": [
    "### Control structures"
   ]
  },
  {
   "cell_type": "code",
   "execution_count": 72,
   "id": "bf06a8d8",
   "metadata": {
    "vscode": {
     "languageId": "r"
    }
   },
   "outputs": [
    {
     "name": "stdout",
     "output_type": "stream",
     "text": [
      "[1] \"Positive\"\n"
     ]
    }
   ],
   "source": [
    "x = 5\n",
    "\n",
    "if (x > 0) {\n",
    "  print(\"Positive\")\n",
    "} else {\n",
    "  print(\"Non-positive\")\n",
    "}\n"
   ]
  },
  {
   "cell_type": "code",
   "execution_count": 73,
   "id": "153b998b",
   "metadata": {
    "vscode": {
     "languageId": "r"
    }
   },
   "outputs": [
    {
     "name": "stdout",
     "output_type": "stream",
     "text": [
      "[1] \"Value of i is 1\"\n",
      "[1] \"Value of i is 2\"\n",
      "[1] \"Value of i is 3\"\n"
     ]
    }
   ],
   "source": [
    "for (i in 1:3) \n",
    "{\n",
    "  print(paste(\"Value of i is\", i))\n",
    "}\n"
   ]
  },
  {
   "cell_type": "code",
   "execution_count": 74,
   "id": "d1829dca",
   "metadata": {
    "vscode": {
     "languageId": "r"
    }
   },
   "outputs": [
    {
     "name": "stdout",
     "output_type": "stream",
     "text": [
      "[1] \"i is 1\"\n",
      "[1] \"i is 2\"\n",
      "[1] \"i is 3\"\n"
     ]
    }
   ],
   "source": [
    "i = 1\n",
    "while (i <= 3) {\n",
    "  print(paste(\"i is\", i))\n",
    "  i = i + 1\n",
    "}\n"
   ]
  },
  {
   "cell_type": "code",
   "execution_count": 75,
   "id": "dc3cbf66",
   "metadata": {
    "vscode": {
     "languageId": "r"
    }
   },
   "outputs": [
    {
     "data": {
      "text/html": [
       "<ol class=list-inline>\n",
       "\t<li>1</li>\n",
       "\t<li>2</li>\n",
       "\t<li>3</li>\n",
       "\t<li>4</li>\n",
       "\t<li>5</li>\n",
       "</ol>\n"
      ],
      "text/latex": [
       "\\begin{enumerate*}\n",
       "\\item 1\n",
       "\\item 2\n",
       "\\item 3\n",
       "\\item 4\n",
       "\\item 5\n",
       "\\end{enumerate*}\n"
      ],
      "text/markdown": [
       "1. 1\n",
       "2. 2\n",
       "3. 3\n",
       "4. 4\n",
       "5. 5\n",
       "\n",
       "\n"
      ],
      "text/plain": [
       "[1] 1 2 3 4 5"
      ]
     },
     "metadata": {},
     "output_type": "display_data"
    },
    {
     "data": {
      "text/html": [
       "<ol class=list-inline>\n",
       "\t<li>2</li>\n",
       "\t<li>4</li>\n",
       "\t<li>6</li>\n",
       "\t<li>8</li>\n",
       "\t<li>10</li>\n",
       "</ol>\n"
      ],
      "text/latex": [
       "\\begin{enumerate*}\n",
       "\\item 2\n",
       "\\item 4\n",
       "\\item 6\n",
       "\\item 8\n",
       "\\item 10\n",
       "\\end{enumerate*}\n"
      ],
      "text/markdown": [
       "1. 2\n",
       "2. 4\n",
       "3. 6\n",
       "4. 8\n",
       "5. 10\n",
       "\n",
       "\n"
      ],
      "text/plain": [
       "[1]  2  4  6  8 10"
      ]
     },
     "metadata": {},
     "output_type": "display_data"
    }
   ],
   "source": [
    "seq(1, 5)           \n",
    "seq(2, 10, by = 2)  \n"
   ]
  },
  {
   "cell_type": "markdown",
   "id": "c3b66a93",
   "metadata": {},
   "source": [
    "### Simple plots in R"
   ]
  },
  {
   "cell_type": "code",
   "execution_count": 76,
   "id": "d5748009",
   "metadata": {
    "vscode": {
     "languageId": "r"
    }
   },
   "outputs": [
    {
     "data": {
      "image/png": "[encoded data removed]",
      "text/plain": [
       "Plot with title \"Line Plot\""
      ]
     },
     "metadata": {},
     "output_type": "display_data"
    }
   ],
   "source": [
    "x = 1:5\n",
    "y = c(2, 4, 6, 8, 10)\n",
    "\n",
    "plot(x, y, type = \"l\", col = \"blue\", main = \"Line Plot\")\n"
   ]
  },
  {
   "cell_type": "code",
   "execution_count": 77,
   "id": "443cf391",
   "metadata": {
    "vscode": {
     "languageId": "r"
    }
   },
   "outputs": [
    {
     "data": {
      "image/png": "[encoded data removed]",
      "text/plain": [
       "Plot with title \"Scatter Plot\""
      ]
     },
     "metadata": {},
     "output_type": "display_data"
    }
   ],
   "source": [
    "x = c(1, 2, 3, 4, 5)\n",
    "y = c(2, 1, 4, 3, 5)\n",
    "\n",
    "plot(x, y, type = \"p\", col = \"red\", main = \"Scatter Plot\")\n"
   ]
  },
  {
   "cell_type": "markdown",
   "id": "83ceaf04",
   "metadata": {},
   "source": [
    "### Practice Questions"
   ]
  },
  {
   "cell_type": "markdown",
   "id": "9578f6bf",
   "metadata": {},
   "source": [
    "\n",
    "\n",
    "\n",
    "\n",
    "1. Create a 3x3 matrix with values from 1 to 9.\n",
    "2. Change the middle element (5) to 100.\n",
    "3. Get the sum of each row using `apply()`.\n",
    "4. Add a new row at the top: `c(10, 20, 30)`.\n",
    "5. Add a new column at position 2: `c(5, 6, 7, 8)`.\n",
    "6. Use a `for` loop to print squares of numbers from 1 to 5.  \n",
    "7. Write an `if-else` statement to check whether a number is even or odd.  \n",
    "8. Use a `while` loop to count from 1 to 5.\n",
    "9. Write a function that takes one input (side) and returns the area of a square.  \n",
    "10. Write a function that takes length and width, and returns both area and perimeter.  \n",
    "11. Use an **inline function** with `sapply()` to square numbers from 1 to 5.\n",
    "12. Create a **line plot** for `x = 1:5` and `y = 2 * x`.  \n",
    "13. Create a **bar plot** for `values = c(10, 20, 15)` with names `A, B, C`.  \n",
    "14. Create a **scatter plot** for `x = c(1, 2, 3)` and `y = c(3, 2, 1)`.\n",
    "15. Create a 3x3 matrix and use `apply()` to get column sums.  \n",
    "16. Create a list and use `lapply()` to compute the mean of each item.  \n",
    "17. Use `mapply()` to add two vectors element-wise.  \n",
    "18. Use `tapply()` to get the sum of values grouped by an ID vector.\n",
    "19. Write a function that returns \"positive\", \"negative\", or \"zero\" based on input.  \n",
    "20. Generate a sequence from 5 to 25 by 5s using `seq()`.  \n",
    "21. Create two small matrices and use `lapply()` to get row sums from a list of matrices.\n",
    "\n"
   ]
  }
 ],
 "metadata": {
  "kernelspec": {
   "display_name": "R",
   "language": "R",
   "name": "ir"
  },
  "language_info": {
   "codemirror_mode": "r",
   "file_extension": ".r",
   "mimetype": "text/x-r-source",
   "name": "R",
   "pygments_lexer": "r",
   "version": "3.6.1"
  }
 },
 "nbformat": 4,
 "nbformat_minor": 5
}
